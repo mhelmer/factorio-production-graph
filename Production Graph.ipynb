{
 "cells": [
  {
   "cell_type": "code",
   "execution_count": 21,
   "id": "25996ae9",
   "metadata": {
    "scrolled": true
   },
   "outputs": [],
   "source": [
    "import networkx as nx\n",
    "import matplotlib.pyplot as plt\n",
    "from pyvis import network as net\n",
    "from matplotlib.pyplot import cm\n",
    "import matplotlib\n",
    "import numpy as np\n",
    "\n",
    "\n",
    "\n",
    "import math\n",
    "\n",
    "G = nx.DiGraph()\n",
    "\n",
    "subfactories = [\n",
    "    ('utility-science-pack', 1000,\n",
    "     [('processing-unit', 476.2), ('flying-robot-frame', 238.1), ('low-density-structure', 714.3)]),\n",
    "    ('production-science-pack', 1000,\n",
    "      [('rail', 7143), ('electric-furnace', 238.1), ('productivity-module', 238.1)]),\n",
    "    ('chemical-science-pack', 1000,\n",
    "      [('sulfur', 357.1), ('advanced-circuit', 1071), ('engine-unit', 714.3)]),\n",
    "    ('military-science-pack', 1000,\n",
    "     [('piercing-rounds-magazine', 357.1), ('grenade', 357), ('stone-brick', 3571)]),\n",
    "    ('logistic-science-pack', 1000,\n",
    "     [('iron-plate', 2602), ('electronic-circuit', 714.3)]), \n",
    "    ('automation-science-pack', 1000,\n",
    "     [('copper-plate', 714), ('iron-plate', 1020)]),\n",
    "    ('space-science-pack', 1000,\n",
    "     [('rocket-control-unit', 714.3), ('low-density-structure', 714.3), ('rocket-fuel', 714.3), ('sattelite', 1)]),\n",
    "    \n",
    "    ('sattelite', 1,\n",
    "     [('processing-unit', 100), ('low-density-structure', 100), ('rocket-fuel', 50), ('copper-plate', 500), ('steel-plate', 500 ), ('electronic-circuit', 1525), ('iron-plate', 300), ('battery', 500)]),\n",
    "    ('low-density-structure', 1529,\n",
    "     [('copper-plate', 21836), ('steel-plate', 2184), ('plastic-bar', 5459)]),\n",
    "    ('rocket-control-unit', 714.3,\n",
    "     [('electronic-circuit', 2551), ('advanced-circuit', 2551), ('processing-unit', 510)]),\n",
    "    ('processing-unit', 1086,\n",
    "     [('electronic-circuit', 15519), ('advanced-circuit', 1552), ('sulfuric-acid', 3880)]),\n",
    "    ('grenade', 357,\n",
    "     [('coal', 3571), ('iron-plate', 1786)]),\n",
    "    ('sulfur', 357,\n",
    "     [('water', 4121), ('petroleum-gas', 4121)]),\n",
    "    ('piercing-rounds-magazine', 357,\n",
    "     [('copper-plate', 1786), ('steel-plate', 357), ('iron-plate', 1429)]),\n",
    "    ('rail', 7143,\n",
    "     [('stone', 3571), ('steel-plate', 3571), ('iron-plate', 1276)]),\n",
    "    ('electric-furnace', 238,\n",
    "     [('steel-plate', 2381), ('advanced-circuit', 1190), ('stone-brick', 2381)]),\n",
    "    ('productivity-module', 238,\n",
    "     [('electronic-circuit', 1190), ('advanced-circuit', 1190)]),\n",
    "    ('flying-robot-frame', 238,\n",
    "     [('steel-plate', 170.1), ('battery', 340.1), ('electronic-circuit', 510.2), ('electric-engine-unit', 170.1)]),\n",
    "    ('advanced-circuit', 7555,\n",
    "     [('plastic-bar', 10793), ('electronic-circuit', 10793), ('copper-plate', 7710)]),\n",
    "    ('electric-engine-unit', 170.1,\n",
    "     [('electronic-circuit', 243), ('engine-unit', 121.5), ('lubricant', 1822)]),\n",
    "    ('engine-unit', 121.5,\n",
    "     [('steel-plate', 597), ('iron-plate', 2047)]),\n",
    "    ('electronic-circuit', 33047,\n",
    "     [('iron-plate', 23605), ('copper-plate', 25291)]),\n",
    "    ('stone-brick', 5952,\n",
    "     [('stone', 9921)]),\n",
    "    ('battery', 840.1,\n",
    "     [('iron-plate', 646.3), ('copper-plate', 646.3), ('sulfuric-acid', 12925)]),\n",
    "    ('plastic-bar', 16252,\n",
    "     [('coal', 6251), ('petroleum-gas', 125020)]),\n",
    "    ('sulfuric-acid', 16805,\n",
    "     [('iron-plate', 258.5), ('sulfur', 1293), ('water', 25854)]),\n",
    "    ('copper-plate', 58483,\n",
    "     [('copper-ore', 48736)]),\n",
    "    ('iron-plate', 34969,\n",
    "     [('iron-ore', 29140)]),\n",
    "    ('rocket-fuel', 764.3,\n",
    "      [('light-oil', 47452)]),\n",
    "    ('lubricant', 1822,\n",
    "     [('heavy-oil', 1402)]),\n",
    "    ('oil-processing', 1,\n",
    "     [('water', 57279 + 54497 + 26872), ('crude-oil', 11458)]),\n",
    "    ('heavy-oil', 1402,\n",
    "     [('oil-processing', 10)]),\n",
    "    ('light-oil', 47452 + 45934 - 54497,\n",
    "     [('oil-processing', 10)]),\n",
    "    ('petroleum-gas', 81909 + 47231,\n",
    "     [('oil-processing', 10)]),\n",
    "    ('steel-plate', 9760,\n",
    "     [('iron-ore', 33889)]),\n",
    "]\n",
    "\n",
    "\n",
    "for subfactory in subfactories:\n",
    "    (material, output, inputs) = subfactory\n",
    "    G.add_node(material, value=output)\n",
    "    G.add_edges_from([(\n",
    "        input_material,\n",
    "        material,\n",
    "        {'width': input_value, 'arrows': 'to'}\n",
    "    ) for (input_material, input_value) in inputs])\n",
    "\n",
    "pos = nx.spring_layout(G)\n"
   ]
  },
  {
   "cell_type": "code",
   "execution_count": 22,
   "id": "6782fc04",
   "metadata": {
    "scrolled": true
   },
   "outputs": [],
   "source": [
    "outputs = nx.get_node_attributes(G, 'value')\n",
    "node_size = [100 * math.log(max(10, outputs.get(key, 10))) for key in G.nodes()]\n",
    "\n",
    "edge_widths = [w for (*edge, w) in G.edges.data('width')]"
   ]
  },
  {
   "cell_type": "code",
   "execution_count": 23,
   "id": "41ef1679",
   "metadata": {},
   "outputs": [
    {
     "data": {
      "image/png": "[encoded data removed]",
      "text/plain": [
       "<Figure size 432x288 with 1 Axes>"
      ]
     },
     "metadata": {},
     "output_type": "display_data"
    }
   ],
   "source": [
    "nx.draw(\n",
    "    G,\n",
    "    pos,\n",
    "    width=edge_widths,\n",
    "    with_labels=True,\n",
    "    node_size=node_size\n",
    ")\n",
    "\n",
    "plt.show()"
   ]
  },
  {
   "cell_type": "code",
   "execution_count": 24,
   "id": "d78b2157",
   "metadata": {
    "scrolled": true
   },
   "outputs": [
    {
     "data": {
      "text/html": [
       "\n",
       "        <iframe\n",
       "            width=\"800px\"\n",
       "            height=\"1000px\"\n",
       "            src=\"factorio.html\"\n",
       "            frameborder=\"0\"\n",
       "            allowfullscreen\n",
       "            \n",
       "        ></iframe>\n",
       "        "
      ],
      "text/plain": [
       "<IPython.lib.display.IFrame at 0x7f4a08bbf880>"
      ]
     },
     "execution_count": 24,
     "metadata": {},
     "output_type": "execute_result"
    }
   ],
   "source": [
    "g = net.Network('1000px', '800px', notebook=True)\n",
    "\n",
    "g.from_nx(G)\n",
    "g.show_buttons(filter_=['physics'])\n",
    "g.toggle_physics(False)\n",
    "g.show(\"factorio.html\")"
   ]
  },
  {
   "cell_type": "code",
   "execution_count": 25,
   "id": "76c1ac1d",
   "metadata": {
    "scrolled": false
   },
   "outputs": [
    {
     "data": {
      "application/vnd.plotly.v1+json": {
       "config": {
        "plotlyServerURL": "https://plot.ly"
       },
       "data": [
        {
         "link": {
          "color": [
           "rgba(127,127,127,0.4)",
           "rgba(127,127,127,0.4)",
           "rgba(127,127,127,0.4)",
           "rgba(127,127,127,0.4)",
           "rgba(127,127,127,0.4)",
           "rgba(127,127,127,0.4)",
           "rgba(127,127,127,0.4)",
           "rgba(127,127,127,0.4)",
           "rgba(127,127,127,0.4)",
           "rgba(127,127,127,0.4)",
           "rgba(127,127,127,0.4)",
           "rgba(127,127,127,0.4)",
           "rgba(127,127,127,0.4)",
           "rgba(127,127,127,0.4)",
           "rgba(127,127,127,0.4)",
           "rgba(127,127,127,0.4)",
           "rgba(127,127,127,0.4)",
           "rgba(127,127,127,0.4)",
           "rgba(127,127,127,0.4)",
           "rgba(127,127,127,0.4)",
           "rgba(127,127,127,0.4)",
           "rgba(127,127,127,0.4)",
           "rgba(127,127,127,0.4)",
           "rgba(127,127,127,0.4)",
           "rgba(127,127,127,0.4)",
           "rgba(127,127,127,0.4)",
           "rgba(127,127,127,0.4)",
           "rgba(127,127,127,0.4)",
           "rgba(127,127,127,0.4)",
           "rgba(127,127,127,0.4)",
           "rgba(127,127,127,0.4)",
           "rgba(127,127,127,0.4)",
           "rgba(127,127,127,0.4)",
           "rgba(127,127,127,0.4)",
           "rgba(127,127,127,0.4)",
           "rgba(127,127,127,0.4)",
           "rgba(127,127,127,0.4)",
           "rgba(127,127,127,0.4)",
           "rgba(127,127,127,0.4)",
           "rgba(127,127,127,0.4)",
           "rgba(127,127,127,0.4)",
           "rgba(127,127,127,0.4)",
           "rgba(127,127,127,0.4)",
           "rgba(127,127,127,0.4)",
           "rgba(127,127,127,0.4)",
           "rgba(127,127,127,0.4)",
           "rgba(127,127,127,0.4)",
           "rgba(127,127,127,0.4)",
           "rgba(127,127,127,0.4)",
           "rgba(127,127,127,0.4)",
           "rgba(127,127,127,0.4)",
           "rgba(127,127,127,0.4)",
           "rgba(127,127,127,0.4)",
           "rgba(127,127,127,0.4)",
           "rgba(127,127,127,0.4)",
           "rgba(127,127,127,0.4)",
           "rgba(127,127,127,0.4)",
           "rgba(127,127,127,0.4)",
           "rgba(127,127,127,0.4)",
           "rgba(127,127,127,0.4)",
           "rgba(127,127,127,0.4)",
           "rgba(127,127,127,0.4)",
           "rgba(127,127,127,0.4)",
           "rgba(127,127,127,0.4)",
           "rgba(127,127,127,0.4)",
           "rgba(127,127,127,0.4)",
           "rgba(127,127,127,0.4)",
           "rgba(127,127,127,0.4)",
           "rgba(127,127,127,0.4)",
           "rgba(127,127,127,0.4)",
           "rgba(127,127,127,0.4)",
           "rgba(127,127,127,0.4)",
           "rgba(127,127,127,0.4)",
           "rgba(127,127,127,0.4)",
           "rgba(127,127,127,0.4)",
           "rgba(127,127,127,0.4)",
           "rgba(127,127,127,0.4)",
           "rgba(127,127,127,0.4)",
           "rgba(127,127,127,0.4)",
           "rgba(127,127,127,0.4)",
           "rgba(127,127,127,0.4)",
           "rgba(127,127,127,0.4)",
           "rgba(127,127,127,0.4)",
           "rgba(127,127,127,0.4)",
           "rgba(127,127,127,0.4)"
          ],
          "label": [
           "processing-unit->utility-science-pack",
           "processing-unit->sattelite",
           "processing-unit->rocket-control-unit",
           "flying-robot-frame->utility-science-pack",
           "low-density-structure->utility-science-pack",
           "low-density-structure->space-science-pack",
           "low-density-structure->sattelite",
           "rail->production-science-pack",
           "electric-furnace->production-science-pack",
           "productivity-module->production-science-pack",
           "sulfur->chemical-science-pack",
           "sulfur->sulfuric-acid",
           "advanced-circuit->chemical-science-pack",
           "advanced-circuit->rocket-control-unit",
           "advanced-circuit->processing-unit",
           "advanced-circuit->electric-furnace",
           "advanced-circuit->productivity-module",
           "engine-unit->chemical-science-pack",
           "engine-unit->electric-engine-unit",
           "piercing-rounds-magazine->military-science-pack",
           "grenade->military-science-pack",
           "stone-brick->military-science-pack",
           "stone-brick->electric-furnace",
           "iron-plate->logistic-science-pack",
           "iron-plate->automation-science-pack",
           "iron-plate->sattelite",
           "iron-plate->grenade",
           "iron-plate->piercing-rounds-magazine",
           "iron-plate->rail",
           "iron-plate->engine-unit",
           "iron-plate->electronic-circuit",
           "iron-plate->battery",
           "iron-plate->sulfuric-acid",
           "electronic-circuit->logistic-science-pack",
           "electronic-circuit->sattelite",
           "electronic-circuit->rocket-control-unit",
           "electronic-circuit->processing-unit",
           "electronic-circuit->productivity-module",
           "electronic-circuit->flying-robot-frame",
           "electronic-circuit->advanced-circuit",
           "electronic-circuit->electric-engine-unit",
           "copper-plate->automation-science-pack",
           "copper-plate->sattelite",
           "copper-plate->low-density-structure",
           "copper-plate->piercing-rounds-magazine",
           "copper-plate->advanced-circuit",
           "copper-plate->electronic-circuit",
           "copper-plate->battery",
           "rocket-control-unit->space-science-pack",
           "rocket-fuel->space-science-pack",
           "rocket-fuel->sattelite",
           "sattelite->space-science-pack",
           "steel-plate->sattelite",
           "steel-plate->low-density-structure",
           "steel-plate->piercing-rounds-magazine",
           "steel-plate->rail",
           "steel-plate->electric-furnace",
           "steel-plate->flying-robot-frame",
           "steel-plate->engine-unit",
           "battery->sattelite",
           "battery->flying-robot-frame",
           "plastic-bar->low-density-structure",
           "plastic-bar->advanced-circuit",
           "sulfuric-acid->processing-unit",
           "sulfuric-acid->battery",
           "coal->grenade",
           "coal->plastic-bar",
           "water->sulfur",
           "water->sulfuric-acid",
           "water->oil-processing",
           "petroleum-gas->sulfur",
           "petroleum-gas->plastic-bar",
           "stone->rail",
           "stone->stone-brick",
           "electric-engine-unit->flying-robot-frame",
           "lubricant->electric-engine-unit",
           "copper-ore->copper-plate",
           "iron-ore->iron-plate",
           "iron-ore->steel-plate",
           "light-oil->rocket-fuel",
           "heavy-oil->lubricant",
           "oil-processing->heavy-oil",
           "oil-processing->light-oil",
           "oil-processing->petroleum-gas",
           "crude-oil->oil-processing"
          ],
          "line": {
           "color": "black",
           "width": 0.2
          },
          "source": [
           1,
           1,
           1,
           2,
           3,
           3,
           3,
           5,
           6,
           7,
           9,
           9,
           10,
           10,
           10,
           10,
           10,
           11,
           11,
           13,
           14,
           15,
           15,
           17,
           17,
           17,
           17,
           17,
           17,
           17,
           17,
           17,
           17,
           18,
           18,
           18,
           18,
           18,
           18,
           18,
           18,
           20,
           20,
           20,
           20,
           20,
           20,
           20,
           22,
           23,
           23,
           24,
           25,
           25,
           25,
           25,
           25,
           25,
           25,
           26,
           26,
           27,
           27,
           28,
           28,
           29,
           29,
           30,
           30,
           30,
           31,
           31,
           32,
           32,
           33,
           34,
           35,
           36,
           36,
           37,
           38,
           39,
           39,
           39,
           40
          ],
          "target": [
           0,
           24,
           22,
           0,
           0,
           21,
           24,
           4,
           4,
           4,
           8,
           28,
           8,
           22,
           1,
           6,
           7,
           8,
           33,
           12,
           12,
           12,
           6,
           16,
           19,
           24,
           14,
           13,
           5,
           11,
           18,
           26,
           28,
           16,
           24,
           22,
           1,
           7,
           2,
           10,
           33,
           19,
           24,
           3,
           13,
           10,
           18,
           26,
           21,
           21,
           24,
           21,
           24,
           3,
           13,
           5,
           6,
           2,
           11,
           24,
           2,
           3,
           10,
           1,
           26,
           14,
           27,
           9,
           28,
           39,
           9,
           27,
           5,
           15,
           2,
           33,
           20,
           17,
           25,
           23,
           34,
           38,
           37,
           31,
           39
          ],
          "value": [
           476.2,
           100,
           510,
           238.1,
           714.3,
           714.3,
           100,
           7143,
           238.1,
           238.1,
           357.1,
           1293,
           1071,
           2551,
           1552,
           1190,
           1190,
           714.3,
           121.5,
           357.1,
           357,
           3571,
           2381,
           2602,
           1020,
           300,
           1786,
           1429,
           1276,
           2047,
           23605,
           646.3,
           258.5,
           714.3,
           1525,
           2551,
           15519,
           1190,
           510.2,
           10793,
           243,
           714,
           500,
           21836,
           1786,
           7710,
           25291,
           646.3,
           714.3,
           714.3,
           50,
           1,
           500,
           2184,
           357,
           3571,
           2381,
           170.1,
           597,
           500,
           340.1,
           5459,
           10793,
           3880,
           12925,
           3571,
           6251,
           4121,
           25854,
           138648,
           4121,
           125020,
           3571,
           9921,
           170.1,
           1822,
           48736,
           29140,
           33889,
           47452,
           1402,
           10,
           10,
           10,
           11458
          ]
         },
         "node": {
          "color": [
           "rgba(127,0,255,0.7)",
           "rgba(115,18,254,0.7)",
           "rgba(103,37,254,0.7)",
           "rgba(89,59,253,0.7)",
           "rgba(77,77,251,0.7)",
           "rgba(63,97,250,0.7)",
           "rgba(51,115,248,0.7)",
           "rgba(39,131,245,0.7)",
           "rgba(25,149,242,0.7)",
           "rgba(13,164,239,0.7)",
           "rgba(0,180,235,0.7)",
           "rgba(12,193,231,0.7)",
           "rgba(24,205,227,0.7)",
           "rgba(38,217,222,0.7)",
           "rgba(50,226,217,0.7)",
           "rgba(64,236,211,0.7)",
           "rgba(76,242,206,0.7)",
           "rgba(88,247,200,0.7)",
           "rgba(102,251,193,0.7)",
           "rgba(114,254,187,0.7)",
           "rgba(128,254,179,0.7)",
           "rgba(140,254,172,0.7)",
           "rgba(152,251,165,0.7)",
           "rgba(166,247,157,0.7)",
           "rgba(178,242,149,0.7)",
           "rgba(192,234,140,0.7)",
           "rgba(204,226,132,0.7)",
           "rgba(216,217,124,0.7)",
           "rgba(230,205,115,0.7)",
           "rgba(242,193,106,0.7)",
           "rgba(255,178,96,0.7)",
           "rgba(255,164,87,0.7)",
           "rgba(255,149,78,0.7)",
           "rgba(255,131,68,0.7)",
           "rgba(255,115,59,0.7)",
           "rgba(255,95,48,0.7)",
           "rgba(255,77,39,0.7)",
           "rgba(255,59,29,0.7)",
           "rgba(255,37,18,0.7)",
           "rgba(255,18,9,0.7)",
           "rgba(255,0,0,0.7)"
          ],
          "label": [
           "utility-science-pack",
           "processing-unit",
           "flying-robot-frame",
           "low-density-structure",
           "production-science-pack",
           "rail",
           "electric-furnace",
           "productivity-module",
           "chemical-science-pack",
           "sulfur",
           "advanced-circuit",
           "engine-unit",
           "military-science-pack",
           "piercing-rounds-magazine",
           "grenade",
           "stone-brick",
           "logistic-science-pack",
           "iron-plate",
           "electronic-circuit",
           "automation-science-pack",
           "copper-plate",
           "space-science-pack",
           "rocket-control-unit",
           "rocket-fuel",
           "sattelite",
           "steel-plate",
           "battery",
           "plastic-bar",
           "sulfuric-acid",
           "coal",
           "water",
           "petroleum-gas",
           "stone",
           "electric-engine-unit",
           "lubricant",
           "copper-ore",
           "iron-ore",
           "light-oil",
           "heavy-oil",
           "oil-processing",
           "crude-oil"
          ],
          "line": {
           "color": "black",
           "width": 0.5
          },
          "pad": 15,
          "thickness": 15
         },
         "type": "sankey",
         "valueformat": ".0f",
         "valuesuffix": "TWh"
        }
       ],
       "layout": {
        "font": {
         "size": 10
        },
        "template": {
         "data": {
          "bar": [
           {
            "error_x": {
             "color": "#2a3f5f"
            },
            "error_y": {
             "color": "#2a3f5f"
            },
            "marker": {
             "line": {
              "color": "#E5ECF6",
              "width": 0.5
             },
             "pattern": {
              "fillmode": "overlay",
              "size": 10,
              "solidity": 0.2
             }
            },
            "type": "bar"
           }
          ],
          "barpolar": [
           {
            "marker": {
             "line": {
              "color": "#E5ECF6",
              "width": 0.5
             },
             "pattern": {
              "fillmode": "overlay",
              "size": 10,
              "solidity": 0.2
             }
            },
            "type": "barpolar"
           }
          ],
          "carpet": [
           {
            "aaxis": {
             "endlinecolor": "#2a3f5f",
             "gridcolor": "white",
             "linecolor": "white",
             "minorgridcolor": "white",
             "startlinecolor": "#2a3f5f"
            },
            "baxis": {
             "endlinecolor": "#2a3f5f",
             "gridcolor": "white",
             "linecolor": "white",
             "minorgridcolor": "white",
             "startlinecolor": "#2a3f5f"
            },
            "type": "carpet"
           }
          ],
          "choropleth": [
           {
            "colorbar": {
             "outlinewidth": 0,
             "ticks": ""
            },
            "type": "choropleth"
           }
          ],
          "contour": [
           {
            "colorbar": {
             "outlinewidth": 0,
             "ticks": ""
            },
            "colorscale": [
             [
              0,
              "#0d0887"
             ],
             [
              0.1111111111111111,
              "#46039f"
             ],
             [
              0.2222222222222222,
              "#7201a8"
             ],
             [
              0.3333333333333333,
              "#9c179e"
             ],
             [
              0.4444444444444444,
              "#bd3786"
             ],
             [
              0.5555555555555556,
              "#d8576b"
             ],
             [
              0.6666666666666666,
              "#ed7953"
             ],
             [
              0.7777777777777778,
              "#fb9f3a"
             ],
             [
              0.8888888888888888,
              "#fdca26"
             ],
             [
              1,
              "#f0f921"
             ]
            ],
            "type": "contour"
           }
          ],
          "contourcarpet": [
           {
            "colorbar": {
             "outlinewidth": 0,
             "ticks": ""
            },
            "type": "contourcarpet"
           }
          ],
          "heatmap": [
           {
            "colorbar": {
             "outlinewidth": 0,
             "ticks": ""
            },
            "colorscale": [
             [
              0,
              "#0d0887"
             ],
             [
              0.1111111111111111,
              "#46039f"
             ],
             [
              0.2222222222222222,
              "#7201a8"
             ],
             [
              0.3333333333333333,
              "#9c179e"
             ],
             [
              0.4444444444444444,
              "#bd3786"
             ],
             [
              0.5555555555555556,
              "#d8576b"
             ],
             [
              0.6666666666666666,
              "#ed7953"
             ],
             [
              0.7777777777777778,
              "#fb9f3a"
             ],
             [
              0.8888888888888888,
              "#fdca26"
             ],
             [
              1,
              "#f0f921"
             ]
            ],
            "type": "heatmap"
           }
          ],
          "heatmapgl": [
           {
            "colorbar": {
             "outlinewidth": 0,
             "ticks": ""
            },
            "colorscale": [
             [
              0,
              "#0d0887"
             ],
             [
              0.1111111111111111,
              "#46039f"
             ],
             [
              0.2222222222222222,
              "#7201a8"
             ],
             [
              0.3333333333333333,
              "#9c179e"
             ],
             [
              0.4444444444444444,
              "#bd3786"
             ],
             [
              0.5555555555555556,
              "#d8576b"
             ],
             [
              0.6666666666666666,
              "#ed7953"
             ],
             [
              0.7777777777777778,
              "#fb9f3a"
             ],
             [
              0.8888888888888888,
              "#fdca26"
             ],
             [
              1,
              "#f0f921"
             ]
            ],
            "type": "heatmapgl"
           }
          ],
          "histogram": [
           {
            "marker": {
             "pattern": {
              "fillmode": "overlay",
              "size": 10,
              "solidity": 0.2
             }
            },
            "type": "histogram"
           }
          ],
          "histogram2d": [
           {
            "colorbar": {
             "outlinewidth": 0,
             "ticks": ""
            },
            "colorscale": [
             [
              0,
              "#0d0887"
             ],
             [
              0.1111111111111111,
              "#46039f"
             ],
             [
              0.2222222222222222,
              "#7201a8"
             ],
             [
              0.3333333333333333,
              "#9c179e"
             ],
             [
              0.4444444444444444,
              "#bd3786"
             ],
             [
              0.5555555555555556,
              "#d8576b"
             ],
             [
              0.6666666666666666,
              "#ed7953"
             ],
             [
              0.7777777777777778,
              "#fb9f3a"
             ],
             [
              0.8888888888888888,
              "#fdca26"
             ],
             [
              1,
              "#f0f921"
             ]
            ],
            "type": "histogram2d"
           }
          ],
          "histogram2dcontour": [
           {
            "colorbar": {
             "outlinewidth": 0,
             "ticks": ""
            },
            "colorscale": [
             [
              0,
              "#0d0887"
             ],
             [
              0.1111111111111111,
              "#46039f"
             ],
             [
              0.2222222222222222,
              "#7201a8"
             ],
             [
              0.3333333333333333,
              "#9c179e"
             ],
             [
              0.4444444444444444,
              "#bd3786"
             ],
             [
              0.5555555555555556,
              "#d8576b"
             ],
             [
              0.6666666666666666,
              "#ed7953"
             ],
             [
              0.7777777777777778,
              "#fb9f3a"
             ],
             [
              0.8888888888888888,
              "#fdca26"
             ],
             [
              1,
              "#f0f921"
             ]
            ],
            "type": "histogram2dcontour"
           }
          ],
          "mesh3d": [
           {
            "colorbar": {
             "outlinewidth": 0,
             "ticks": ""
            },
            "type": "mesh3d"
           }
          ],
          "parcoords": [
           {
            "line": {
             "colorbar": {
              "outlinewidth": 0,
              "ticks": ""
             }
            },
            "type": "parcoords"
           }
          ],
          "pie": [
           {
            "automargin": true,
            "type": "pie"
           }
          ],
          "scatter": [
           {
            "marker": {
             "colorbar": {
              "outlinewidth": 0,
              "ticks": ""
             }
            },
            "type": "scatter"
           }
          ],
          "scatter3d": [
           {
            "line": {
             "colorbar": {
              "outlinewidth": 0,
              "ticks": ""
             }
            },
            "marker": {
             "colorbar": {
              "outlinewidth": 0,
              "ticks": ""
             }
            },
            "type": "scatter3d"
           }
          ],
          "scattercarpet": [
           {
            "marker": {
             "colorbar": {
              "outlinewidth": 0,
              "ticks": ""
             }
            },
            "type": "scattercarpet"
           }
          ],
          "scattergeo": [
           {
            "marker": {
             "colorbar": {
              "outlinewidth": 0,
              "ticks": ""
             }
            },
            "type": "scattergeo"
           }
          ],
          "scattergl": [
           {
            "marker": {
             "colorbar": {
              "outlinewidth": 0,
              "ticks": ""
             }
            },
            "type": "scattergl"
           }
          ],
          "scattermapbox": [
           {
            "marker": {
             "colorbar": {
              "outlinewidth": 0,
              "ticks": ""
             }
            },
            "type": "scattermapbox"
           }
          ],
          "scatterpolar": [
           {
            "marker": {
             "colorbar": {
              "outlinewidth": 0,
              "ticks": ""
             }
            },
            "type": "scatterpolar"
           }
          ],
          "scatterpolargl": [
           {
            "marker": {
             "colorbar": {
              "outlinewidth": 0,
              "ticks": ""
             }
            },
            "type": "scatterpolargl"
           }
          ],
          "scatterternary": [
           {
            "marker": {
             "colorbar": {
              "outlinewidth": 0,
              "ticks": ""
             }
            },
            "type": "scatterternary"
           }
          ],
          "surface": [
           {
            "colorbar": {
             "outlinewidth": 0,
             "ticks": ""
            },
            "colorscale": [
             [
              0,
              "#0d0887"
             ],
             [
              0.1111111111111111,
              "#46039f"
             ],
             [
              0.2222222222222222,
              "#7201a8"
             ],
             [
              0.3333333333333333,
              "#9c179e"
             ],
             [
              0.4444444444444444,
              "#bd3786"
             ],
             [
              0.5555555555555556,
              "#d8576b"
             ],
             [
              0.6666666666666666,
              "#ed7953"
             ],
             [
              0.7777777777777778,
              "#fb9f3a"
             ],
             [
              0.8888888888888888,
              "#fdca26"
             ],
             [
              1,
              "#f0f921"
             ]
            ],
            "type": "surface"
           }
          ],
          "table": [
           {
            "cells": {
             "fill": {
              "color": "#EBF0F8"
             },
             "line": {
              "color": "white"
             }
            },
            "header": {
             "fill": {
              "color": "#C8D4E3"
             },
             "line": {
              "color": "white"
             }
            },
            "type": "table"
           }
          ]
         },
         "layout": {
          "annotationdefaults": {
           "arrowcolor": "#2a3f5f",
           "arrowhead": 0,
           "arrowwidth": 1
          },
          "autotypenumbers": "strict",
          "coloraxis": {
           "colorbar": {
            "outlinewidth": 0,
            "ticks": ""
           }
          },
          "colorscale": {
           "diverging": [
            [
             0,
             "#8e0152"
            ],
            [
             0.1,
             "#c51b7d"
            ],
            [
             0.2,
             "#de77ae"
            ],
            [
             0.3,
             "#f1b6da"
            ],
            [
             0.4,
             "#fde0ef"
            ],
            [
             0.5,
             "#f7f7f7"
            ],
            [
             0.6,
             "#e6f5d0"
            ],
            [
             0.7,
             "#b8e186"
            ],
            [
             0.8,
             "#7fbc41"
            ],
            [
             0.9,
             "#4d9221"
            ],
            [
             1,
             "#276419"
            ]
           ],
           "sequential": [
            [
             0,
             "#0d0887"
            ],
            [
             0.1111111111111111,
             "#46039f"
            ],
            [
             0.2222222222222222,
             "#7201a8"
            ],
            [
             0.3333333333333333,
             "#9c179e"
            ],
            [
             0.4444444444444444,
             "#bd3786"
            ],
            [
             0.5555555555555556,
             "#d8576b"
            ],
            [
             0.6666666666666666,
             "#ed7953"
            ],
            [
             0.7777777777777778,
             "#fb9f3a"
            ],
            [
             0.8888888888888888,
             "#fdca26"
            ],
            [
             1,
             "#f0f921"
            ]
           ],
           "sequentialminus": [
            [
             0,
             "#0d0887"
            ],
            [
             0.1111111111111111,
             "#46039f"
            ],
            [
             0.2222222222222222,
             "#7201a8"
            ],
            [
             0.3333333333333333,
             "#9c179e"
            ],
            [
             0.4444444444444444,
             "#bd3786"
            ],
            [
             0.5555555555555556,
             "#d8576b"
            ],
            [
             0.6666666666666666,
             "#ed7953"
            ],
            [
             0.7777777777777778,
             "#fb9f3a"
            ],
            [
             0.8888888888888888,
             "#fdca26"
            ],
            [
             1,
             "#f0f921"
            ]
           ]
          },
          "colorway": [
           "#636efa",
           "#EF553B",
           "#00cc96",
           "#ab63fa",
           "#FFA15A",
           "#19d3f3",
           "#FF6692",
           "#B6E880",
           "#FF97FF",
           "#FECB52"
          ],
          "font": {
           "color": "#2a3f5f"
          },
          "geo": {
           "bgcolor": "white",
           "lakecolor": "white",
           "landcolor": "#E5ECF6",
           "showlakes": true,
           "showland": true,
           "subunitcolor": "white"
          },
          "hoverlabel": {
           "align": "left"
          },
          "hovermode": "closest",
          "mapbox": {
           "style": "light"
          },
          "paper_bgcolor": "white",
          "plot_bgcolor": "#E5ECF6",
          "polar": {
           "angularaxis": {
            "gridcolor": "white",
            "linecolor": "white",
            "ticks": ""
           },
           "bgcolor": "#E5ECF6",
           "radialaxis": {
            "gridcolor": "white",
            "linecolor": "white",
            "ticks": ""
           }
          },
          "scene": {
           "xaxis": {
            "backgroundcolor": "#E5ECF6",
            "gridcolor": "white",
            "gridwidth": 2,
            "linecolor": "white",
            "showbackground": true,
            "ticks": "",
            "zerolinecolor": "white"
           },
           "yaxis": {
            "backgroundcolor": "#E5ECF6",
            "gridcolor": "white",
            "gridwidth": 2,
            "linecolor": "white",
            "showbackground": true,
            "ticks": "",
            "zerolinecolor": "white"
           },
           "zaxis": {
            "backgroundcolor": "#E5ECF6",
            "gridcolor": "white",
            "gridwidth": 2,
            "linecolor": "white",
            "showbackground": true,
            "ticks": "",
            "zerolinecolor": "white"
           }
          },
          "shapedefaults": {
           "line": {
            "color": "#2a3f5f"
           }
          },
          "ternary": {
           "aaxis": {
            "gridcolor": "white",
            "linecolor": "white",
            "ticks": ""
           },
           "baxis": {
            "gridcolor": "white",
            "linecolor": "white",
            "ticks": ""
           },
           "bgcolor": "#E5ECF6",
           "caxis": {
            "gridcolor": "white",
            "linecolor": "white",
            "ticks": ""
           }
          },
          "title": {
           "x": 0.05
          },
          "xaxis": {
           "automargin": true,
           "gridcolor": "white",
           "linecolor": "white",
           "ticks": "",
           "title": {
            "standoff": 15
           },
           "zerolinecolor": "white",
           "zerolinewidth": 2
          },
          "yaxis": {
           "automargin": true,
           "gridcolor": "white",
           "linecolor": "white",
           "ticks": "",
           "title": {
            "standoff": 15
           },
           "zerolinecolor": "white",
           "zerolinewidth": 2
          }
         }
        },
        "title": {
         "text": "Megabase production"
        }
       }
      },
      "text/html": [
       "<div>                            <div id=\"75638a4d-e2bd-4f4c-929f-7c8e3fdd0618\" class=\"plotly-graph-div\" style=\"height:525px; width:100%;\"></div>            <script type=\"text/javascript\">                require([\"plotly\"], function(Plotly) {                    window.PLOTLYENV=window.PLOTLYENV || {};                                    if (document.getElementById(\"75638a4d-e2bd-4f4c-929f-7c8e3fdd0618\")) {                    Plotly.newPlot(                        \"75638a4d-e2bd-4f4c-929f-7c8e3fdd0618\",                        [{\"link\":{\"color\":[\"rgba(127,127,127,0.4)\",\"rgba(127,127,127,0.4)\",\"rgba(127,127,127,0.4)\",\"rgba(127,127,127,0.4)\",\"rgba(127,127,127,0.4)\",\"rgba(127,127,127,0.4)\",\"rgba(127,127,127,0.4)\",\"rgba(127,127,127,0.4)\",\"rgba(127,127,127,0.4)\",\"rgba(127,127,127,0.4)\",\"rgba(127,127,127,0.4)\",\"rgba(127,127,127,0.4)\",\"rgba(127,127,127,0.4)\",\"rgba(127,127,127,0.4)\",\"rgba(127,127,127,0.4)\",\"rgba(127,127,127,0.4)\",\"rgba(127,127,127,0.4)\",\"rgba(127,127,127,0.4)\",\"rgba(127,127,127,0.4)\",\"rgba(127,127,127,0.4)\",\"rgba(127,127,127,0.4)\",\"rgba(127,127,127,0.4)\",\"rgba(127,127,127,0.4)\",\"rgba(127,127,127,0.4)\",\"rgba(127,127,127,0.4)\",\"rgba(127,127,127,0.4)\",\"rgba(127,127,127,0.4)\",\"rgba(127,127,127,0.4)\",\"rgba(127,127,127,0.4)\",\"rgba(127,127,127,0.4)\",\"rgba(127,127,127,0.4)\",\"rgba(127,127,127,0.4)\",\"rgba(127,127,127,0.4)\",\"rgba(127,127,127,0.4)\",\"rgba(127,127,127,0.4)\",\"rgba(127,127,127,0.4)\",\"rgba(127,127,127,0.4)\",\"rgba(127,127,127,0.4)\",\"rgba(127,127,127,0.4)\",\"rgba(127,127,127,0.4)\",\"rgba(127,127,127,0.4)\",\"rgba(127,127,127,0.4)\",\"rgba(127,127,127,0.4)\",\"rgba(127,127,127,0.4)\",\"rgba(127,127,127,0.4)\",\"rgba(127,127,127,0.4)\",\"rgba(127,127,127,0.4)\",\"rgba(127,127,127,0.4)\",\"rgba(127,127,127,0.4)\",\"rgba(127,127,127,0.4)\",\"rgba(127,127,127,0.4)\",\"rgba(127,127,127,0.4)\",\"rgba(127,127,127,0.4)\",\"rgba(127,127,127,0.4)\",\"rgba(127,127,127,0.4)\",\"rgba(127,127,127,0.4)\",\"rgba(127,127,127,0.4)\",\"rgba(127,127,127,0.4)\",\"rgba(127,127,127,0.4)\",\"rgba(127,127,127,0.4)\",\"rgba(127,127,127,0.4)\",\"rgba(127,127,127,0.4)\",\"rgba(127,127,127,0.4)\",\"rgba(127,127,127,0.4)\",\"rgba(127,127,127,0.4)\",\"rgba(127,127,127,0.4)\",\"rgba(127,127,127,0.4)\",\"rgba(127,127,127,0.4)\",\"rgba(127,127,127,0.4)\",\"rgba(127,127,127,0.4)\",\"rgba(127,127,127,0.4)\",\"rgba(127,127,127,0.4)\",\"rgba(127,127,127,0.4)\",\"rgba(127,127,127,0.4)\",\"rgba(127,127,127,0.4)\",\"rgba(127,127,127,0.4)\",\"rgba(127,127,127,0.4)\",\"rgba(127,127,127,0.4)\",\"rgba(127,127,127,0.4)\",\"rgba(127,127,127,0.4)\",\"rgba(127,127,127,0.4)\",\"rgba(127,127,127,0.4)\",\"rgba(127,127,127,0.4)\",\"rgba(127,127,127,0.4)\",\"rgba(127,127,127,0.4)\"],\"label\":[\"processing-unit->utility-science-pack\",\"processing-unit->sattelite\",\"processing-unit->rocket-control-unit\",\"flying-robot-frame->utility-science-pack\",\"low-density-structure->utility-science-pack\",\"low-density-structure->space-science-pack\",\"low-density-structure->sattelite\",\"rail->production-science-pack\",\"electric-furnace->production-science-pack\",\"productivity-module->production-science-pack\",\"sulfur->chemical-science-pack\",\"sulfur->sulfuric-acid\",\"advanced-circuit->chemical-science-pack\",\"advanced-circuit->rocket-control-unit\",\"advanced-circuit->processing-unit\",\"advanced-circuit->electric-furnace\",\"advanced-circuit->productivity-module\",\"engine-unit->chemical-science-pack\",\"engine-unit->electric-engine-unit\",\"piercing-rounds-magazine->military-science-pack\",\"grenade->military-science-pack\",\"stone-brick->military-science-pack\",\"stone-brick->electric-furnace\",\"iron-plate->logistic-science-pack\",\"iron-plate->automation-science-pack\",\"iron-plate->sattelite\",\"iron-plate->grenade\",\"iron-plate->piercing-rounds-magazine\",\"iron-plate->rail\",\"iron-plate->engine-unit\",\"iron-plate->electronic-circuit\",\"iron-plate->battery\",\"iron-plate->sulfuric-acid\",\"electronic-circuit->logistic-science-pack\",\"electronic-circuit->sattelite\",\"electronic-circuit->rocket-control-unit\",\"electronic-circuit->processing-unit\",\"electronic-circuit->productivity-module\",\"electronic-circuit->flying-robot-frame\",\"electronic-circuit->advanced-circuit\",\"electronic-circuit->electric-engine-unit\",\"copper-plate->automation-science-pack\",\"copper-plate->sattelite\",\"copper-plate->low-density-structure\",\"copper-plate->piercing-rounds-magazine\",\"copper-plate->advanced-circuit\",\"copper-plate->electronic-circuit\",\"copper-plate->battery\",\"rocket-control-unit->space-science-pack\",\"rocket-fuel->space-science-pack\",\"rocket-fuel->sattelite\",\"sattelite->space-science-pack\",\"steel-plate->sattelite\",\"steel-plate->low-density-structure\",\"steel-plate->piercing-rounds-magazine\",\"steel-plate->rail\",\"steel-plate->electric-furnace\",\"steel-plate->flying-robot-frame\",\"steel-plate->engine-unit\",\"battery->sattelite\",\"battery->flying-robot-frame\",\"plastic-bar->low-density-structure\",\"plastic-bar->advanced-circuit\",\"sulfuric-acid->processing-unit\",\"sulfuric-acid->battery\",\"coal->grenade\",\"coal->plastic-bar\",\"water->sulfur\",\"water->sulfuric-acid\",\"water->oil-processing\",\"petroleum-gas->sulfur\",\"petroleum-gas->plastic-bar\",\"stone->rail\",\"stone->stone-brick\",\"electric-engine-unit->flying-robot-frame\",\"lubricant->electric-engine-unit\",\"copper-ore->copper-plate\",\"iron-ore->iron-plate\",\"iron-ore->steel-plate\",\"light-oil->rocket-fuel\",\"heavy-oil->lubricant\",\"oil-processing->heavy-oil\",\"oil-processing->light-oil\",\"oil-processing->petroleum-gas\",\"crude-oil->oil-processing\"],\"line\":{\"color\":\"black\",\"width\":0.2},\"source\":[1,1,1,2,3,3,3,5,6,7,9,9,10,10,10,10,10,11,11,13,14,15,15,17,17,17,17,17,17,17,17,17,17,18,18,18,18,18,18,18,18,20,20,20,20,20,20,20,22,23,23,24,25,25,25,25,25,25,25,26,26,27,27,28,28,29,29,30,30,30,31,31,32,32,33,34,35,36,36,37,38,39,39,39,40],\"target\":[0,24,22,0,0,21,24,4,4,4,8,28,8,22,1,6,7,8,33,12,12,12,6,16,19,24,14,13,5,11,18,26,28,16,24,22,1,7,2,10,33,19,24,3,13,10,18,26,21,21,24,21,24,3,13,5,6,2,11,24,2,3,10,1,26,14,27,9,28,39,9,27,5,15,2,33,20,17,25,23,34,38,37,31,39],\"value\":[476.2,100,510,238.1,714.3,714.3,100,7143,238.1,238.1,357.1,1293,1071,2551,1552,1190,1190,714.3,121.5,357.1,357,3571,2381,2602,1020,300,1786,1429,1276,2047,23605,646.3,258.5,714.3,1525,2551,15519,1190,510.2,10793,243,714,500,21836,1786,7710,25291,646.3,714.3,714.3,50,1,500,2184,357,3571,2381,170.1,597,500,340.1,5459,10793,3880,12925,3571,6251,4121,25854,138648,4121,125020,3571,9921,170.1,1822,48736,29140,33889,47452,1402,10,10,10,11458]},\"node\":{\"color\":[\"rgba(127,0,255,0.7)\",\"rgba(115,18,254,0.7)\",\"rgba(103,37,254,0.7)\",\"rgba(89,59,253,0.7)\",\"rgba(77,77,251,0.7)\",\"rgba(63,97,250,0.7)\",\"rgba(51,115,248,0.7)\",\"rgba(39,131,245,0.7)\",\"rgba(25,149,242,0.7)\",\"rgba(13,164,239,0.7)\",\"rgba(0,180,235,0.7)\",\"rgba(12,193,231,0.7)\",\"rgba(24,205,227,0.7)\",\"rgba(38,217,222,0.7)\",\"rgba(50,226,217,0.7)\",\"rgba(64,236,211,0.7)\",\"rgba(76,242,206,0.7)\",\"rgba(88,247,200,0.7)\",\"rgba(102,251,193,0.7)\",\"rgba(114,254,187,0.7)\",\"rgba(128,254,179,0.7)\",\"rgba(140,254,172,0.7)\",\"rgba(152,251,165,0.7)\",\"rgba(166,247,157,0.7)\",\"rgba(178,242,149,0.7)\",\"rgba(192,234,140,0.7)\",\"rgba(204,226,132,0.7)\",\"rgba(216,217,124,0.7)\",\"rgba(230,205,115,0.7)\",\"rgba(242,193,106,0.7)\",\"rgba(255,178,96,0.7)\",\"rgba(255,164,87,0.7)\",\"rgba(255,149,78,0.7)\",\"rgba(255,131,68,0.7)\",\"rgba(255,115,59,0.7)\",\"rgba(255,95,48,0.7)\",\"rgba(255,77,39,0.7)\",\"rgba(255,59,29,0.7)\",\"rgba(255,37,18,0.7)\",\"rgba(255,18,9,0.7)\",\"rgba(255,0,0,0.7)\"],\"label\":[\"utility-science-pack\",\"processing-unit\",\"flying-robot-frame\",\"low-density-structure\",\"production-science-pack\",\"rail\",\"electric-furnace\",\"productivity-module\",\"chemical-science-pack\",\"sulfur\",\"advanced-circuit\",\"engine-unit\",\"military-science-pack\",\"piercing-rounds-magazine\",\"grenade\",\"stone-brick\",\"logistic-science-pack\",\"iron-plate\",\"electronic-circuit\",\"automation-science-pack\",\"copper-plate\",\"space-science-pack\",\"rocket-control-unit\",\"rocket-fuel\",\"sattelite\",\"steel-plate\",\"battery\",\"plastic-bar\",\"sulfuric-acid\",\"coal\",\"water\",\"petroleum-gas\",\"stone\",\"electric-engine-unit\",\"lubricant\",\"copper-ore\",\"iron-ore\",\"light-oil\",\"heavy-oil\",\"oil-processing\",\"crude-oil\"],\"line\":{\"color\":\"black\",\"width\":0.5},\"pad\":15,\"thickness\":15},\"type\":\"sankey\",\"valueformat\":\".0f\",\"valuesuffix\":\"TWh\"}],                        {\"font\":{\"size\":10},\"template\":{\"data\":{\"bar\":[{\"error_x\":{\"color\":\"#2a3f5f\"},\"error_y\":{\"color\":\"#2a3f5f\"},\"marker\":{\"line\":{\"color\":\"#E5ECF6\",\"width\":0.5},\"pattern\":{\"fillmode\":\"overlay\",\"size\":10,\"solidity\":0.2}},\"type\":\"bar\"}],\"barpolar\":[{\"marker\":{\"line\":{\"color\":\"#E5ECF6\",\"width\":0.5},\"pattern\":{\"fillmode\":\"overlay\",\"size\":10,\"solidity\":0.2}},\"type\":\"barpolar\"}],\"carpet\":[{\"aaxis\":{\"endlinecolor\":\"#2a3f5f\",\"gridcolor\":\"white\",\"linecolor\":\"white\",\"minorgridcolor\":\"white\",\"startlinecolor\":\"#2a3f5f\"},\"baxis\":{\"endlinecolor\":\"#2a3f5f\",\"gridcolor\":\"white\",\"linecolor\":\"white\",\"minorgridcolor\":\"white\",\"startlinecolor\":\"#2a3f5f\"},\"type\":\"carpet\"}],\"choropleth\":[{\"colorbar\":{\"outlinewidth\":0,\"ticks\":\"\"},\"type\":\"choropleth\"}],\"contour\":[{\"colorbar\":{\"outlinewidth\":0,\"ticks\":\"\"},\"colorscale\":[[0.0,\"#0d0887\"],[0.1111111111111111,\"#46039f\"],[0.2222222222222222,\"#7201a8\"],[0.3333333333333333,\"#9c179e\"],[0.4444444444444444,\"#bd3786\"],[0.5555555555555556,\"#d8576b\"],[0.6666666666666666,\"#ed7953\"],[0.7777777777777778,\"#fb9f3a\"],[0.8888888888888888,\"#fdca26\"],[1.0,\"#f0f921\"]],\"type\":\"contour\"}],\"contourcarpet\":[{\"colorbar\":{\"outlinewidth\":0,\"ticks\":\"\"},\"type\":\"contourcarpet\"}],\"heatmap\":[{\"colorbar\":{\"outlinewidth\":0,\"ticks\":\"\"},\"colorscale\":[[0.0,\"#0d0887\"],[0.1111111111111111,\"#46039f\"],[0.2222222222222222,\"#7201a8\"],[0.3333333333333333,\"#9c179e\"],[0.4444444444444444,\"#bd3786\"],[0.5555555555555556,\"#d8576b\"],[0.6666666666666666,\"#ed7953\"],[0.7777777777777778,\"#fb9f3a\"],[0.8888888888888888,\"#fdca26\"],[1.0,\"#f0f921\"]],\"type\":\"heatmap\"}],\"heatmapgl\":[{\"colorbar\":{\"outlinewidth\":0,\"ticks\":\"\"},\"colorscale\":[[0.0,\"#0d0887\"],[0.1111111111111111,\"#46039f\"],[0.2222222222222222,\"#7201a8\"],[0.3333333333333333,\"#9c179e\"],[0.4444444444444444,\"#bd3786\"],[0.5555555555555556,\"#d8576b\"],[0.6666666666666666,\"#ed7953\"],[0.7777777777777778,\"#fb9f3a\"],[0.8888888888888888,\"#fdca26\"],[1.0,\"#f0f921\"]],\"type\":\"heatmapgl\"}],\"histogram\":[{\"marker\":{\"pattern\":{\"fillmode\":\"overlay\",\"size\":10,\"solidity\":0.2}},\"type\":\"histogram\"}],\"histogram2d\":[{\"colorbar\":{\"outlinewidth\":0,\"ticks\":\"\"},\"colorscale\":[[0.0,\"#0d0887\"],[0.1111111111111111,\"#46039f\"],[0.2222222222222222,\"#7201a8\"],[0.3333333333333333,\"#9c179e\"],[0.4444444444444444,\"#bd3786\"],[0.5555555555555556,\"#d8576b\"],[0.6666666666666666,\"#ed7953\"],[0.7777777777777778,\"#fb9f3a\"],[0.8888888888888888,\"#fdca26\"],[1.0,\"#f0f921\"]],\"type\":\"histogram2d\"}],\"histogram2dcontour\":[{\"colorbar\":{\"outlinewidth\":0,\"ticks\":\"\"},\"colorscale\":[[0.0,\"#0d0887\"],[0.1111111111111111,\"#46039f\"],[0.2222222222222222,\"#7201a8\"],[0.3333333333333333,\"#9c179e\"],[0.4444444444444444,\"#bd3786\"],[0.5555555555555556,\"#d8576b\"],[0.6666666666666666,\"#ed7953\"],[0.7777777777777778,\"#fb9f3a\"],[0.8888888888888888,\"#fdca26\"],[1.0,\"#f0f921\"]],\"type\":\"histogram2dcontour\"}],\"mesh3d\":[{\"colorbar\":{\"outlinewidth\":0,\"ticks\":\"\"},\"type\":\"mesh3d\"}],\"parcoords\":[{\"line\":{\"colorbar\":{\"outlinewidth\":0,\"ticks\":\"\"}},\"type\":\"parcoords\"}],\"pie\":[{\"automargin\":true,\"type\":\"pie\"}],\"scatter\":[{\"marker\":{\"colorbar\":{\"outlinewidth\":0,\"ticks\":\"\"}},\"type\":\"scatter\"}],\"scatter3d\":[{\"line\":{\"colorbar\":{\"outlinewidth\":0,\"ticks\":\"\"}},\"marker\":{\"colorbar\":{\"outlinewidth\":0,\"ticks\":\"\"}},\"type\":\"scatter3d\"}],\"scattercarpet\":[{\"marker\":{\"colorbar\":{\"outlinewidth\":0,\"ticks\":\"\"}},\"type\":\"scattercarpet\"}],\"scattergeo\":[{\"marker\":{\"colorbar\":{\"outlinewidth\":0,\"ticks\":\"\"}},\"type\":\"scattergeo\"}],\"scattergl\":[{\"marker\":{\"colorbar\":{\"outlinewidth\":0,\"ticks\":\"\"}},\"type\":\"scattergl\"}],\"scattermapbox\":[{\"marker\":{\"colorbar\":{\"outlinewidth\":0,\"ticks\":\"\"}},\"type\":\"scattermapbox\"}],\"scatterpolar\":[{\"marker\":{\"colorbar\":{\"outlinewidth\":0,\"ticks\":\"\"}},\"type\":\"scatterpolar\"}],\"scatterpolargl\":[{\"marker\":{\"colorbar\":{\"outlinewidth\":0,\"ticks\":\"\"}},\"type\":\"scatterpolargl\"}],\"scatterternary\":[{\"marker\":{\"colorbar\":{\"outlinewidth\":0,\"ticks\":\"\"}},\"type\":\"scatterternary\"}],\"surface\":[{\"colorbar\":{\"outlinewidth\":0,\"ticks\":\"\"},\"colorscale\":[[0.0,\"#0d0887\"],[0.1111111111111111,\"#46039f\"],[0.2222222222222222,\"#7201a8\"],[0.3333333333333333,\"#9c179e\"],[0.4444444444444444,\"#bd3786\"],[0.5555555555555556,\"#d8576b\"],[0.6666666666666666,\"#ed7953\"],[0.7777777777777778,\"#fb9f3a\"],[0.8888888888888888,\"#fdca26\"],[1.0,\"#f0f921\"]],\"type\":\"surface\"}],\"table\":[{\"cells\":{\"fill\":{\"color\":\"#EBF0F8\"},\"line\":{\"color\":\"white\"}},\"header\":{\"fill\":{\"color\":\"#C8D4E3\"},\"line\":{\"color\":\"white\"}},\"type\":\"table\"}]},\"layout\":{\"annotationdefaults\":{\"arrowcolor\":\"#2a3f5f\",\"arrowhead\":0,\"arrowwidth\":1},\"autotypenumbers\":\"strict\",\"coloraxis\":{\"colorbar\":{\"outlinewidth\":0,\"ticks\":\"\"}},\"colorscale\":{\"diverging\":[[0,\"#8e0152\"],[0.1,\"#c51b7d\"],[0.2,\"#de77ae\"],[0.3,\"#f1b6da\"],[0.4,\"#fde0ef\"],[0.5,\"#f7f7f7\"],[0.6,\"#e6f5d0\"],[0.7,\"#b8e186\"],[0.8,\"#7fbc41\"],[0.9,\"#4d9221\"],[1,\"#276419\"]],\"sequential\":[[0.0,\"#0d0887\"],[0.1111111111111111,\"#46039f\"],[0.2222222222222222,\"#7201a8\"],[0.3333333333333333,\"#9c179e\"],[0.4444444444444444,\"#bd3786\"],[0.5555555555555556,\"#d8576b\"],[0.6666666666666666,\"#ed7953\"],[0.7777777777777778,\"#fb9f3a\"],[0.8888888888888888,\"#fdca26\"],[1.0,\"#f0f921\"]],\"sequentialminus\":[[0.0,\"#0d0887\"],[0.1111111111111111,\"#46039f\"],[0.2222222222222222,\"#7201a8\"],[0.3333333333333333,\"#9c179e\"],[0.4444444444444444,\"#bd3786\"],[0.5555555555555556,\"#d8576b\"],[0.6666666666666666,\"#ed7953\"],[0.7777777777777778,\"#fb9f3a\"],[0.8888888888888888,\"#fdca26\"],[1.0,\"#f0f921\"]]},\"colorway\":[\"#636efa\",\"#EF553B\",\"#00cc96\",\"#ab63fa\",\"#FFA15A\",\"#19d3f3\",\"#FF6692\",\"#B6E880\",\"#FF97FF\",\"#FECB52\"],\"font\":{\"color\":\"#2a3f5f\"},\"geo\":{\"bgcolor\":\"white\",\"lakecolor\":\"white\",\"landcolor\":\"#E5ECF6\",\"showlakes\":true,\"showland\":true,\"subunitcolor\":\"white\"},\"hoverlabel\":{\"align\":\"left\"},\"hovermode\":\"closest\",\"mapbox\":{\"style\":\"light\"},\"paper_bgcolor\":\"white\",\"plot_bgcolor\":\"#E5ECF6\",\"polar\":{\"angularaxis\":{\"gridcolor\":\"white\",\"linecolor\":\"white\",\"ticks\":\"\"},\"bgcolor\":\"#E5ECF6\",\"radialaxis\":{\"gridcolor\":\"white\",\"linecolor\":\"white\",\"ticks\":\"\"}},\"scene\":{\"xaxis\":{\"backgroundcolor\":\"#E5ECF6\",\"gridcolor\":\"white\",\"gridwidth\":2,\"linecolor\":\"white\",\"showbackground\":true,\"ticks\":\"\",\"zerolinecolor\":\"white\"},\"yaxis\":{\"backgroundcolor\":\"#E5ECF6\",\"gridcolor\":\"white\",\"gridwidth\":2,\"linecolor\":\"white\",\"showbackground\":true,\"ticks\":\"\",\"zerolinecolor\":\"white\"},\"zaxis\":{\"backgroundcolor\":\"#E5ECF6\",\"gridcolor\":\"white\",\"gridwidth\":2,\"linecolor\":\"white\",\"showbackground\":true,\"ticks\":\"\",\"zerolinecolor\":\"white\"}},\"shapedefaults\":{\"line\":{\"color\":\"#2a3f5f\"}},\"ternary\":{\"aaxis\":{\"gridcolor\":\"white\",\"linecolor\":\"white\",\"ticks\":\"\"},\"baxis\":{\"gridcolor\":\"white\",\"linecolor\":\"white\",\"ticks\":\"\"},\"bgcolor\":\"#E5ECF6\",\"caxis\":{\"gridcolor\":\"white\",\"linecolor\":\"white\",\"ticks\":\"\"}},\"title\":{\"x\":0.05},\"xaxis\":{\"automargin\":true,\"gridcolor\":\"white\",\"linecolor\":\"white\",\"ticks\":\"\",\"title\":{\"standoff\":15},\"zerolinecolor\":\"white\",\"zerolinewidth\":2},\"yaxis\":{\"automargin\":true,\"gridcolor\":\"white\",\"linecolor\":\"white\",\"ticks\":\"\",\"title\":{\"standoff\":15},\"zerolinecolor\":\"white\",\"zerolinewidth\":2}}},\"title\":{\"text\":\"Megabase production\"}},                        {\"responsive\": true}                    ).then(function(){\n",
       "                            \n",
       "var gd = document.getElementById('75638a4d-e2bd-4f4c-929f-7c8e3fdd0618');\n",
       "var x = new MutationObserver(function (mutations, observer) {{\n",
       "        var display = window.getComputedStyle(gd).display;\n",
       "        if (!display || display === 'none') {{\n",
       "            console.log([gd, 'removed!']);\n",
       "            Plotly.purge(gd);\n",
       "            observer.disconnect();\n",
       "        }}\n",
       "}});\n",
       "\n",
       "// Listen for the removal of the full notebook cells\n",
       "var notebookContainer = gd.closest('#notebook-container');\n",
       "if (notebookContainer) {{\n",
       "    x.observe(notebookContainer, {childList: true});\n",
       "}}\n",
       "\n",
       "// Listen for the clearing of the current output cell\n",
       "var outputEl = gd.closest('.output');\n",
       "if (outputEl) {{\n",
       "    x.observe(outputEl, {childList: true});\n",
       "}}\n",
       "\n",
       "                        })                };                });            </script>        </div>"
      ]
     },
     "metadata": {},
     "output_type": "display_data"
    }
   ],
   "source": [
    "import plotly.graph_objects as go\n",
    "\n",
    "def mpc_to_rgba(value, alpha=1):\n",
    "    return 'rgba({},{},{},{})'.format(*[int(f * 255) for f in matplotlib.colors.to_rgb(value)], alpha)\n",
    "\n",
    "c = iter(cm.rainbow(np.linspace(0, 1, G.order())))\n",
    "\n",
    "node_label = [str(n) for n in G]\n",
    "node_color = [next(c) for n in G]\n",
    "\n",
    "(source, target, value, edge_color, edge_label) = zip(*[\n",
    "        [*[node_label.index(n) for n in edge],\n",
    "         w,\n",
    "         'rgba(127,127,127,0.4)',\n",
    "         '{}->{}'.format(*edge)\n",
    "        ] for (*edge, w) in G.edges.data('width')\n",
    "    ])\n",
    "\n",
    "fig = go.Figure(data=[go.Sankey(\n",
    "    valueformat = \".0f\",\n",
    "    valuesuffix = \"TWh\",\n",
    "    # Define nodes\n",
    "    node = dict(\n",
    "      pad = 15,\n",
    "      thickness = 15,\n",
    "      line = dict(color = \"black\", width = 0.5),\n",
    "      label =  node_label,\n",
    "      color =  [mpc_to_rgba(color, 0.7) for color in node_color]\n",
    "    ),\n",
    "    # Add links\n",
    "    link = dict(\n",
    "      source =  source,\n",
    "      target =  target,\n",
    "      value =  value,\n",
    "      label =  edge_label,\n",
    "      line = dict(color = \"black\", width = 0.2),\n",
    "      color =  edge_color\n",
    "))])\n",
    "\n",
    "fig.update_layout(title_text=\"Megabase production\", font_size=10)\n",
    "fig.show()"
   ]
  },
  {
   "cell_type": "code",
   "execution_count": 26,
   "id": "e87983a5",
   "metadata": {},
   "outputs": [
    {
     "data": {
      "application/vnd.plotly.v1+json": {
       "config": {
        "plotlyServerURL": "https://plot.ly"
       },
       "data": [
        {
         "link": {
          "color": [
           "rgba(31,119,180,0.3)",
           "rgba(31,119,180,0.3)",
           "rgba(31,119,180,0.3)",
           "rgba(174,199,232,0.3)",
           "rgba(174,199,232,0.3)",
           "rgba(174,199,232,0.3)",
           "rgba(174,199,232,0.3)",
           "rgba(255,127,14,0.3)",
           "rgba(255,187,120,0.3)",
           "rgba(255,187,120,0.3)",
           "rgba(44,160,44,0.3)",
           "rgba(44,160,44,0.3)",
           "rgba(152,223,138,0.3)",
           "rgba(152,223,138,0.3)",
           "rgba(152,223,138,0.3)",
           "rgba(152,223,138,0.3)",
           "rgba(152,223,138,0.3)",
           "rgba(152,223,138,0.3)",
           "rgba(152,223,138,0.3)",
           "rgba(214,39,40,0.3)",
           "rgba(255,152,150,0.3)",
           "rgba(255,152,150,0.3)",
           "rgba(255,152,150,0.3)",
           "rgba(148,103,189,0.3)",
           "rgba(148,103,189,0.3)",
           "rgba(148,103,189,0.3)",
           "rgba(148,103,189,0.3)",
           "rgba(148,103,189,0.3)",
           "rgba(148,103,189,0.3)",
           "rgba(148,103,189,0.3)",
           "rgba(148,103,189,0.3)",
           "rgba(148,103,189,0.3)",
           "rgba(148,103,189,0.3)",
           "rgba(197,176,213,0.3)",
           "rgba(197,176,213,0.3)",
           "rgba(197,176,213,0.3)",
           "rgba(197,176,213,0.3)",
           "rgba(197,176,213,0.3)",
           "rgba(197,176,213,0.3)",
           "rgba(197,176,213,0.3)",
           "rgba(197,176,213,0.3)",
           "rgba(140,86,75,0.3)",
           "rgba(140,86,75,0.3)",
           "rgba(140,86,75,0.3)",
           "rgba(140,86,75,0.3)",
           "rgba(140,86,75,0.3)",
           "rgba(140,86,75,0.3)",
           "rgba(140,86,75,0.3)",
           "rgba(196,156,148,0.3)",
           "rgba(196,156,148,0.3)",
           "rgba(196,156,148,0.3)",
           "rgba(227,119,194,0.3)",
           "rgba(227,119,194,0.3)",
           "rgba(227,119,194,0.3)",
           "rgba(227,119,194,0.3)",
           "rgba(227,119,194,0.3)",
           "rgba(227,119,194,0.3)",
           "rgba(227,119,194,0.3)",
           "rgba(227,119,194,0.3)",
           "rgba(247,182,210,0.3)",
           "rgba(247,182,210,0.3)",
           "rgba(247,182,210,0.3)",
           "rgba(247,182,210,0.3)",
           "rgba(127,127,127,0.3)",
           "rgba(127,127,127,0.3)",
           "rgba(127,127,127,0.3)",
           "rgba(127,127,127,0.3)",
           "rgba(199,199,199,0.3)",
           "rgba(199,199,199,0.3)",
           "rgba(199,199,199,0.3)",
           "rgba(199,199,199,0.3)",
           "rgba(199,199,199,0.3)",
           "rgba(188,189,34,0.3)",
           "rgba(188,189,34,0.3)",
           "rgba(188,189,34,0.3)",
           "rgba(219,219,141,0.3)",
           "rgba(219,219,141,0.3)",
           "rgba(23,190,207,0.3)",
           "rgba(23,190,207,0.3)",
           "rgba(23,190,207,0.3)",
           "rgba(158,218,229,0.3)",
           "rgba(158,218,229,0.3)",
           "rgba(158,218,229,0.3)",
           "rgba(158,218,229,0.3)",
           "rgba(158,218,229,0.3)"
          ],
          "label": [
           "processing-unit->utility-science-pack",
           "processing-unit->sattelite",
           "processing-unit->rocket-control-unit",
           "flying-robot-frame->utility-science-pack",
           "low-density-structure->utility-science-pack",
           "low-density-structure->space-science-pack",
           "low-density-structure->sattelite",
           "rail->production-science-pack",
           "electric-furnace->production-science-pack",
           "productivity-module->production-science-pack",
           "sulfur->chemical-science-pack",
           "sulfur->sulfuric-acid",
           "advanced-circuit->chemical-science-pack",
           "advanced-circuit->rocket-control-unit",
           "advanced-circuit->processing-unit",
           "advanced-circuit->electric-furnace",
           "advanced-circuit->productivity-module",
           "engine-unit->chemical-science-pack",
           "engine-unit->electric-engine-unit",
           "piercing-rounds-magazine->military-science-pack",
           "grenade->military-science-pack",
           "stone-brick->military-science-pack",
           "stone-brick->electric-furnace",
           "iron-plate->logistic-science-pack",
           "iron-plate->automation-science-pack",
           "iron-plate->sattelite",
           "iron-plate->grenade",
           "iron-plate->piercing-rounds-magazine",
           "iron-plate->rail",
           "iron-plate->engine-unit",
           "iron-plate->electronic-circuit",
           "iron-plate->battery",
           "iron-plate->sulfuric-acid",
           "electronic-circuit->logistic-science-pack",
           "electronic-circuit->sattelite",
           "electronic-circuit->rocket-control-unit",
           "electronic-circuit->processing-unit",
           "electronic-circuit->productivity-module",
           "electronic-circuit->flying-robot-frame",
           "electronic-circuit->advanced-circuit",
           "electronic-circuit->electric-engine-unit",
           "copper-plate->automation-science-pack",
           "copper-plate->sattelite",
           "copper-plate->low-density-structure",
           "copper-plate->piercing-rounds-magazine",
           "copper-plate->advanced-circuit",
           "copper-plate->electronic-circuit",
           "copper-plate->battery",
           "rocket-control-unit->space-science-pack",
           "rocket-fuel->space-science-pack",
           "rocket-fuel->sattelite",
           "sattelite->space-science-pack",
           "steel-plate->sattelite",
           "steel-plate->low-density-structure",
           "steel-plate->piercing-rounds-magazine",
           "steel-plate->rail",
           "steel-plate->electric-furnace",
           "steel-plate->flying-robot-frame",
           "steel-plate->engine-unit",
           "battery->sattelite",
           "battery->flying-robot-frame",
           "plastic-bar->low-density-structure",
           "plastic-bar->advanced-circuit",
           "sulfuric-acid->processing-unit",
           "sulfuric-acid->battery",
           "coal->grenade",
           "coal->plastic-bar",
           "water->sulfur",
           "water->sulfuric-acid",
           "water->oil-processing",
           "petroleum-gas->sulfur",
           "petroleum-gas->plastic-bar",
           "stone->rail",
           "stone->stone-brick",
           "electric-engine-unit->flying-robot-frame",
           "lubricant->electric-engine-unit",
           "copper-ore->copper-plate",
           "iron-ore->iron-plate",
           "iron-ore->steel-plate",
           "light-oil->rocket-fuel",
           "heavy-oil->lubricant",
           "oil-processing->heavy-oil",
           "oil-processing->light-oil",
           "oil-processing->petroleum-gas",
           "crude-oil->oil-processing"
          ],
          "line": {
           "color": "black",
           "width": 0.2
          },
          "source": [
           1,
           1,
           1,
           2,
           3,
           3,
           3,
           5,
           6,
           7,
           9,
           9,
           10,
           10,
           10,
           10,
           10,
           11,
           11,
           13,
           14,
           15,
           15,
           17,
           17,
           17,
           17,
           17,
           17,
           17,
           17,
           17,
           17,
           18,
           18,
           18,
           18,
           18,
           18,
           18,
           18,
           20,
           20,
           20,
           20,
           20,
           20,
           20,
           22,
           23,
           23,
           24,
           25,
           25,
           25,
           25,
           25,
           25,
           25,
           26,
           26,
           27,
           27,
           28,
           28,
           29,
           29,
           30,
           30,
           30,
           31,
           31,
           32,
           32,
           33,
           34,
           35,
           36,
           36,
           37,
           38,
           39,
           39,
           39,
           40
          ],
          "target": [
           0,
           24,
           22,
           0,
           0,
           21,
           24,
           4,
           4,
           4,
           8,
           28,
           8,
           22,
           1,
           6,
           7,
           8,
           33,
           12,
           12,
           12,
           6,
           16,
           19,
           24,
           14,
           13,
           5,
           11,
           18,
           26,
           28,
           16,
           24,
           22,
           1,
           7,
           2,
           10,
           33,
           19,
           24,
           3,
           13,
           10,
           18,
           26,
           21,
           21,
           24,
           21,
           24,
           3,
           13,
           5,
           6,
           2,
           11,
           24,
           2,
           3,
           10,
           1,
           26,
           14,
           27,
           9,
           28,
           39,
           9,
           27,
           5,
           15,
           2,
           33,
           20,
           17,
           25,
           23,
           34,
           38,
           37,
           31,
           39
          ],
          "value": [
           0.11904999999999999,
           0.025,
           0.1275,
           0.11904999999999999,
           1.7857499999999997,
           1.7857499999999997,
           0.25,
           1.7857500000000002,
           0.11904999999999999,
           0.11904999999999999,
           0.17855000000000001,
           0.6465,
           0.13387500000000002,
           0.318875,
           0.194,
           0.14875,
           0.14875,
           0.35714999999999997,
           0.060750000000000005,
           0.044637500000000004,
           0.08925,
           0.89275,
           0.59525,
           0.6505,
           0.255,
           0.075,
           0.4465,
           0.35724999999999996,
           0.319,
           0.5117499999999999,
           5.90125,
           0.16157499999999997,
           0.064625,
           0.08928749999999999,
           0.190625,
           0.318875,
           1.939875,
           0.14875,
           0.063775,
           1.3491250000000001,
           0.030375000000000003,
           0.1785,
           0.125,
           5.4590000000000005,
           0.4465,
           1.9274999999999998,
           6.32275,
           0.16157499999999997,
           1.7857499999999997,
           1.7857499999999997,
           0.125,
           0.025,
           0.125,
           0.546,
           0.08925,
           0.89275,
           0.59525,
           0.04252499999999999,
           0.14925,
           0.0625,
           0.0425125,
           1.3647500000000001,
           2.6982500000000003,
           0.1552,
           0.517,
           1.7855,
           3.1254999999999997,
           0.16484000000000001,
           1.03416,
           5.545920000000001,
           0.16484000000000001,
           5.0008,
           1.7855,
           4.9605,
           0.08504999999999999,
           0.07288,
           24.368000000000002,
           14.569999999999999,
           16.944499999999998,
           1.8980799999999998,
           0.05608,
           0.0004,
           0.0004,
           0.0004,
           0.45831999999999995
          ]
         },
         "node": {
          "color": [
           "rgba(31,119,180,0.7)",
           "rgba(31,119,180,0.7)",
           "rgba(174,199,232,0.7)",
           "rgba(174,199,232,0.7)",
           "rgba(255,127,14,0.7)",
           "rgba(255,127,14,0.7)",
           "rgba(255,187,120,0.7)",
           "rgba(255,187,120,0.7)",
           "rgba(44,160,44,0.7)",
           "rgba(44,160,44,0.7)",
           "rgba(152,223,138,0.7)",
           "rgba(152,223,138,0.7)",
           "rgba(214,39,40,0.7)",
           "rgba(214,39,40,0.7)",
           "rgba(255,152,150,0.7)",
           "rgba(255,152,150,0.7)",
           "rgba(148,103,189,0.7)",
           "rgba(148,103,189,0.7)",
           "rgba(197,176,213,0.7)",
           "rgba(197,176,213,0.7)",
           "rgba(140,86,75,0.7)",
           "rgba(140,86,75,0.7)",
           "rgba(196,156,148,0.7)",
           "rgba(196,156,148,0.7)",
           "rgba(227,119,194,0.7)",
           "rgba(227,119,194,0.7)",
           "rgba(247,182,210,0.7)",
           "rgba(247,182,210,0.7)",
           "rgba(127,127,127,0.7)",
           "rgba(127,127,127,0.7)",
           "rgba(199,199,199,0.7)",
           "rgba(199,199,199,0.7)",
           "rgba(188,189,34,0.7)",
           "rgba(188,189,34,0.7)",
           "rgba(219,219,141,0.7)",
           "rgba(219,219,141,0.7)",
           "rgba(23,190,207,0.7)",
           "rgba(23,190,207,0.7)",
           "rgba(158,218,229,0.7)",
           "rgba(158,218,229,0.7)",
           "rgba(158,218,229,0.7)"
          ],
          "label": [
           "utility-science-pack",
           "processing-unit",
           "flying-robot-frame",
           "low-density-structure",
           "production-science-pack",
           "rail",
           "electric-furnace",
           "productivity-module",
           "chemical-science-pack",
           "sulfur",
           "advanced-circuit",
           "engine-unit",
           "military-science-pack",
           "piercing-rounds-magazine",
           "grenade",
           "stone-brick",
           "logistic-science-pack",
           "iron-plate",
           "electronic-circuit",
           "automation-science-pack",
           "copper-plate",
           "space-science-pack",
           "rocket-control-unit",
           "rocket-fuel",
           "sattelite",
           "steel-plate",
           "battery",
           "plastic-bar",
           "sulfuric-acid",
           "coal",
           "water",
           "petroleum-gas",
           "stone",
           "electric-engine-unit",
           "lubricant",
           "copper-ore",
           "iron-ore",
           "light-oil",
           "heavy-oil",
           "oil-processing",
           "crude-oil"
          ],
          "line": {
           "color": "black",
           "width": 0.5
          },
          "pad": 30,
          "thickness": 15
         },
         "type": "sankey",
         "valueformat": ".1f",
         "valuesuffix": " wagons/min"
        }
       ],
       "layout": {
        "font": {
         "size": 12
        },
        "height": 800,
        "template": {
         "data": {
          "bar": [
           {
            "error_x": {
             "color": "#2a3f5f"
            },
            "error_y": {
             "color": "#2a3f5f"
            },
            "marker": {
             "line": {
              "color": "#E5ECF6",
              "width": 0.5
             },
             "pattern": {
              "fillmode": "overlay",
              "size": 10,
              "solidity": 0.2
             }
            },
            "type": "bar"
           }
          ],
          "barpolar": [
           {
            "marker": {
             "line": {
              "color": "#E5ECF6",
              "width": 0.5
             },
             "pattern": {
              "fillmode": "overlay",
              "size": 10,
              "solidity": 0.2
             }
            },
            "type": "barpolar"
           }
          ],
          "carpet": [
           {
            "aaxis": {
             "endlinecolor": "#2a3f5f",
             "gridcolor": "white",
             "linecolor": "white",
             "minorgridcolor": "white",
             "startlinecolor": "#2a3f5f"
            },
            "baxis": {
             "endlinecolor": "#2a3f5f",
             "gridcolor": "white",
             "linecolor": "white",
             "minorgridcolor": "white",
             "startlinecolor": "#2a3f5f"
            },
            "type": "carpet"
           }
          ],
          "choropleth": [
           {
            "colorbar": {
             "outlinewidth": 0,
             "ticks": ""
            },
            "type": "choropleth"
           }
          ],
          "contour": [
           {
            "colorbar": {
             "outlinewidth": 0,
             "ticks": ""
            },
            "colorscale": [
             [
              0,
              "#0d0887"
             ],
             [
              0.1111111111111111,
              "#46039f"
             ],
             [
              0.2222222222222222,
              "#7201a8"
             ],
             [
              0.3333333333333333,
              "#9c179e"
             ],
             [
              0.4444444444444444,
              "#bd3786"
             ],
             [
              0.5555555555555556,
              "#d8576b"
             ],
             [
              0.6666666666666666,
              "#ed7953"
             ],
             [
              0.7777777777777778,
              "#fb9f3a"
             ],
             [
              0.8888888888888888,
              "#fdca26"
             ],
             [
              1,
              "#f0f921"
             ]
            ],
            "type": "contour"
           }
          ],
          "contourcarpet": [
           {
            "colorbar": {
             "outlinewidth": 0,
             "ticks": ""
            },
            "type": "contourcarpet"
           }
          ],
          "heatmap": [
           {
            "colorbar": {
             "outlinewidth": 0,
             "ticks": ""
            },
            "colorscale": [
             [
              0,
              "#0d0887"
             ],
             [
              0.1111111111111111,
              "#46039f"
             ],
             [
              0.2222222222222222,
              "#7201a8"
             ],
             [
              0.3333333333333333,
              "#9c179e"
             ],
             [
              0.4444444444444444,
              "#bd3786"
             ],
             [
              0.5555555555555556,
              "#d8576b"
             ],
             [
              0.6666666666666666,
              "#ed7953"
             ],
             [
              0.7777777777777778,
              "#fb9f3a"
             ],
             [
              0.8888888888888888,
              "#fdca26"
             ],
             [
              1,
              "#f0f921"
             ]
            ],
            "type": "heatmap"
           }
          ],
          "heatmapgl": [
           {
            "colorbar": {
             "outlinewidth": 0,
             "ticks": ""
            },
            "colorscale": [
             [
              0,
              "#0d0887"
             ],
             [
              0.1111111111111111,
              "#46039f"
             ],
             [
              0.2222222222222222,
              "#7201a8"
             ],
             [
              0.3333333333333333,
              "#9c179e"
             ],
             [
              0.4444444444444444,
              "#bd3786"
             ],
             [
              0.5555555555555556,
              "#d8576b"
             ],
             [
              0.6666666666666666,
              "#ed7953"
             ],
             [
              0.7777777777777778,
              "#fb9f3a"
             ],
             [
              0.8888888888888888,
              "#fdca26"
             ],
             [
              1,
              "#f0f921"
             ]
            ],
            "type": "heatmapgl"
           }
          ],
          "histogram": [
           {
            "marker": {
             "pattern": {
              "fillmode": "overlay",
              "size": 10,
              "solidity": 0.2
             }
            },
            "type": "histogram"
           }
          ],
          "histogram2d": [
           {
            "colorbar": {
             "outlinewidth": 0,
             "ticks": ""
            },
            "colorscale": [
             [
              0,
              "#0d0887"
             ],
             [
              0.1111111111111111,
              "#46039f"
             ],
             [
              0.2222222222222222,
              "#7201a8"
             ],
             [
              0.3333333333333333,
              "#9c179e"
             ],
             [
              0.4444444444444444,
              "#bd3786"
             ],
             [
              0.5555555555555556,
              "#d8576b"
             ],
             [
              0.6666666666666666,
              "#ed7953"
             ],
             [
              0.7777777777777778,
              "#fb9f3a"
             ],
             [
              0.8888888888888888,
              "#fdca26"
             ],
             [
              1,
              "#f0f921"
             ]
            ],
            "type": "histogram2d"
           }
          ],
          "histogram2dcontour": [
           {
            "colorbar": {
             "outlinewidth": 0,
             "ticks": ""
            },
            "colorscale": [
             [
              0,
              "#0d0887"
             ],
             [
              0.1111111111111111,
              "#46039f"
             ],
             [
              0.2222222222222222,
              "#7201a8"
             ],
             [
              0.3333333333333333,
              "#9c179e"
             ],
             [
              0.4444444444444444,
              "#bd3786"
             ],
             [
              0.5555555555555556,
              "#d8576b"
             ],
             [
              0.6666666666666666,
              "#ed7953"
             ],
             [
              0.7777777777777778,
              "#fb9f3a"
             ],
             [
              0.8888888888888888,
              "#fdca26"
             ],
             [
              1,
              "#f0f921"
             ]
            ],
            "type": "histogram2dcontour"
           }
          ],
          "mesh3d": [
           {
            "colorbar": {
             "outlinewidth": 0,
             "ticks": ""
            },
            "type": "mesh3d"
           }
          ],
          "parcoords": [
           {
            "line": {
             "colorbar": {
              "outlinewidth": 0,
              "ticks": ""
             }
            },
            "type": "parcoords"
           }
          ],
          "pie": [
           {
            "automargin": true,
            "type": "pie"
           }
          ],
          "scatter": [
           {
            "marker": {
             "colorbar": {
              "outlinewidth": 0,
              "ticks": ""
             }
            },
            "type": "scatter"
           }
          ],
          "scatter3d": [
           {
            "line": {
             "colorbar": {
              "outlinewidth": 0,
              "ticks": ""
             }
            },
            "marker": {
             "colorbar": {
              "outlinewidth": 0,
              "ticks": ""
             }
            },
            "type": "scatter3d"
           }
          ],
          "scattercarpet": [
           {
            "marker": {
             "colorbar": {
              "outlinewidth": 0,
              "ticks": ""
             }
            },
            "type": "scattercarpet"
           }
          ],
          "scattergeo": [
           {
            "marker": {
             "colorbar": {
              "outlinewidth": 0,
              "ticks": ""
             }
            },
            "type": "scattergeo"
           }
          ],
          "scattergl": [
           {
            "marker": {
             "colorbar": {
              "outlinewidth": 0,
              "ticks": ""
             }
            },
            "type": "scattergl"
           }
          ],
          "scattermapbox": [
           {
            "marker": {
             "colorbar": {
              "outlinewidth": 0,
              "ticks": ""
             }
            },
            "type": "scattermapbox"
           }
          ],
          "scatterpolar": [
           {
            "marker": {
             "colorbar": {
              "outlinewidth": 0,
              "ticks": ""
             }
            },
            "type": "scatterpolar"
           }
          ],
          "scatterpolargl": [
           {
            "marker": {
             "colorbar": {
              "outlinewidth": 0,
              "ticks": ""
             }
            },
            "type": "scatterpolargl"
           }
          ],
          "scatterternary": [
           {
            "marker": {
             "colorbar": {
              "outlinewidth": 0,
              "ticks": ""
             }
            },
            "type": "scatterternary"
           }
          ],
          "surface": [
           {
            "colorbar": {
             "outlinewidth": 0,
             "ticks": ""
            },
            "colorscale": [
             [
              0,
              "#0d0887"
             ],
             [
              0.1111111111111111,
              "#46039f"
             ],
             [
              0.2222222222222222,
              "#7201a8"
             ],
             [
              0.3333333333333333,
              "#9c179e"
             ],
             [
              0.4444444444444444,
              "#bd3786"
             ],
             [
              0.5555555555555556,
              "#d8576b"
             ],
             [
              0.6666666666666666,
              "#ed7953"
             ],
             [
              0.7777777777777778,
              "#fb9f3a"
             ],
             [
              0.8888888888888888,
              "#fdca26"
             ],
             [
              1,
              "#f0f921"
             ]
            ],
            "type": "surface"
           }
          ],
          "table": [
           {
            "cells": {
             "fill": {
              "color": "#EBF0F8"
             },
             "line": {
              "color": "white"
             }
            },
            "header": {
             "fill": {
              "color": "#C8D4E3"
             },
             "line": {
              "color": "white"
             }
            },
            "type": "table"
           }
          ]
         },
         "layout": {
          "annotationdefaults": {
           "arrowcolor": "#2a3f5f",
           "arrowhead": 0,
           "arrowwidth": 1
          },
          "autotypenumbers": "strict",
          "coloraxis": {
           "colorbar": {
            "outlinewidth": 0,
            "ticks": ""
           }
          },
          "colorscale": {
           "diverging": [
            [
             0,
             "#8e0152"
            ],
            [
             0.1,
             "#c51b7d"
            ],
            [
             0.2,
             "#de77ae"
            ],
            [
             0.3,
             "#f1b6da"
            ],
            [
             0.4,
             "#fde0ef"
            ],
            [
             0.5,
             "#f7f7f7"
            ],
            [
             0.6,
             "#e6f5d0"
            ],
            [
             0.7,
             "#b8e186"
            ],
            [
             0.8,
             "#7fbc41"
            ],
            [
             0.9,
             "#4d9221"
            ],
            [
             1,
             "#276419"
            ]
           ],
           "sequential": [
            [
             0,
             "#0d0887"
            ],
            [
             0.1111111111111111,
             "#46039f"
            ],
            [
             0.2222222222222222,
             "#7201a8"
            ],
            [
             0.3333333333333333,
             "#9c179e"
            ],
            [
             0.4444444444444444,
             "#bd3786"
            ],
            [
             0.5555555555555556,
             "#d8576b"
            ],
            [
             0.6666666666666666,
             "#ed7953"
            ],
            [
             0.7777777777777778,
             "#fb9f3a"
            ],
            [
             0.8888888888888888,
             "#fdca26"
            ],
            [
             1,
             "#f0f921"
            ]
           ],
           "sequentialminus": [
            [
             0,
             "#0d0887"
            ],
            [
             0.1111111111111111,
             "#46039f"
            ],
            [
             0.2222222222222222,
             "#7201a8"
            ],
            [
             0.3333333333333333,
             "#9c179e"
            ],
            [
             0.4444444444444444,
             "#bd3786"
            ],
            [
             0.5555555555555556,
             "#d8576b"
            ],
            [
             0.6666666666666666,
             "#ed7953"
            ],
            [
             0.7777777777777778,
             "#fb9f3a"
            ],
            [
             0.8888888888888888,
             "#fdca26"
            ],
            [
             1,
             "#f0f921"
            ]
           ]
          },
          "colorway": [
           "#636efa",
           "#EF553B",
           "#00cc96",
           "#ab63fa",
           "#FFA15A",
           "#19d3f3",
           "#FF6692",
           "#B6E880",
           "#FF97FF",
           "#FECB52"
          ],
          "font": {
           "color": "#2a3f5f"
          },
          "geo": {
           "bgcolor": "white",
           "lakecolor": "white",
           "landcolor": "#E5ECF6",
           "showlakes": true,
           "showland": true,
           "subunitcolor": "white"
          },
          "hoverlabel": {
           "align": "left"
          },
          "hovermode": "closest",
          "mapbox": {
           "style": "light"
          },
          "paper_bgcolor": "white",
          "plot_bgcolor": "#E5ECF6",
          "polar": {
           "angularaxis": {
            "gridcolor": "white",
            "linecolor": "white",
            "ticks": ""
           },
           "bgcolor": "#E5ECF6",
           "radialaxis": {
            "gridcolor": "white",
            "linecolor": "white",
            "ticks": ""
           }
          },
          "scene": {
           "xaxis": {
            "backgroundcolor": "#E5ECF6",
            "gridcolor": "white",
            "gridwidth": 2,
            "linecolor": "white",
            "showbackground": true,
            "ticks": "",
            "zerolinecolor": "white"
           },
           "yaxis": {
            "backgroundcolor": "#E5ECF6",
            "gridcolor": "white",
            "gridwidth": 2,
            "linecolor": "white",
            "showbackground": true,
            "ticks": "",
            "zerolinecolor": "white"
           },
           "zaxis": {
            "backgroundcolor": "#E5ECF6",
            "gridcolor": "white",
            "gridwidth": 2,
            "linecolor": "white",
            "showbackground": true,
            "ticks": "",
            "zerolinecolor": "white"
           }
          },
          "shapedefaults": {
           "line": {
            "color": "#2a3f5f"
           }
          },
          "ternary": {
           "aaxis": {
            "gridcolor": "white",
            "linecolor": "white",
            "ticks": ""
           },
           "baxis": {
            "gridcolor": "white",
            "linecolor": "white",
            "ticks": ""
           },
           "bgcolor": "#E5ECF6",
           "caxis": {
            "gridcolor": "white",
            "linecolor": "white",
            "ticks": ""
           }
          },
          "title": {
           "x": 0.05
          },
          "xaxis": {
           "automargin": true,
           "gridcolor": "white",
           "linecolor": "white",
           "ticks": "",
           "title": {
            "standoff": 15
           },
           "zerolinecolor": "white",
           "zerolinewidth": 2
          },
          "yaxis": {
           "automargin": true,
           "gridcolor": "white",
           "linecolor": "white",
           "ticks": "",
           "title": {
            "standoff": 15
           },
           "zerolinecolor": "white",
           "zerolinewidth": 2
          }
         }
        },
        "title": {
         "text": "Megabase production wagons / min"
        }
       }
      },
      "text/html": [
       "<div>                            <div id=\"23ec4792-52b8-4139-89a4-b0a7ed7ce18e\" class=\"plotly-graph-div\" style=\"height:800px; width:100%;\"></div>            <script type=\"text/javascript\">                require([\"plotly\"], function(Plotly) {                    window.PLOTLYENV=window.PLOTLYENV || {};                                    if (document.getElementById(\"23ec4792-52b8-4139-89a4-b0a7ed7ce18e\")) {                    Plotly.newPlot(                        \"23ec4792-52b8-4139-89a4-b0a7ed7ce18e\",                        [{\"link\":{\"color\":[\"rgba(31,119,180,0.3)\",\"rgba(31,119,180,0.3)\",\"rgba(31,119,180,0.3)\",\"rgba(174,199,232,0.3)\",\"rgba(174,199,232,0.3)\",\"rgba(174,199,232,0.3)\",\"rgba(174,199,232,0.3)\",\"rgba(255,127,14,0.3)\",\"rgba(255,187,120,0.3)\",\"rgba(255,187,120,0.3)\",\"rgba(44,160,44,0.3)\",\"rgba(44,160,44,0.3)\",\"rgba(152,223,138,0.3)\",\"rgba(152,223,138,0.3)\",\"rgba(152,223,138,0.3)\",\"rgba(152,223,138,0.3)\",\"rgba(152,223,138,0.3)\",\"rgba(152,223,138,0.3)\",\"rgba(152,223,138,0.3)\",\"rgba(214,39,40,0.3)\",\"rgba(255,152,150,0.3)\",\"rgba(255,152,150,0.3)\",\"rgba(255,152,150,0.3)\",\"rgba(148,103,189,0.3)\",\"rgba(148,103,189,0.3)\",\"rgba(148,103,189,0.3)\",\"rgba(148,103,189,0.3)\",\"rgba(148,103,189,0.3)\",\"rgba(148,103,189,0.3)\",\"rgba(148,103,189,0.3)\",\"rgba(148,103,189,0.3)\",\"rgba(148,103,189,0.3)\",\"rgba(148,103,189,0.3)\",\"rgba(197,176,213,0.3)\",\"rgba(197,176,213,0.3)\",\"rgba(197,176,213,0.3)\",\"rgba(197,176,213,0.3)\",\"rgba(197,176,213,0.3)\",\"rgba(197,176,213,0.3)\",\"rgba(197,176,213,0.3)\",\"rgba(197,176,213,0.3)\",\"rgba(140,86,75,0.3)\",\"rgba(140,86,75,0.3)\",\"rgba(140,86,75,0.3)\",\"rgba(140,86,75,0.3)\",\"rgba(140,86,75,0.3)\",\"rgba(140,86,75,0.3)\",\"rgba(140,86,75,0.3)\",\"rgba(196,156,148,0.3)\",\"rgba(196,156,148,0.3)\",\"rgba(196,156,148,0.3)\",\"rgba(227,119,194,0.3)\",\"rgba(227,119,194,0.3)\",\"rgba(227,119,194,0.3)\",\"rgba(227,119,194,0.3)\",\"rgba(227,119,194,0.3)\",\"rgba(227,119,194,0.3)\",\"rgba(227,119,194,0.3)\",\"rgba(227,119,194,0.3)\",\"rgba(247,182,210,0.3)\",\"rgba(247,182,210,0.3)\",\"rgba(247,182,210,0.3)\",\"rgba(247,182,210,0.3)\",\"rgba(127,127,127,0.3)\",\"rgba(127,127,127,0.3)\",\"rgba(127,127,127,0.3)\",\"rgba(127,127,127,0.3)\",\"rgba(199,199,199,0.3)\",\"rgba(199,199,199,0.3)\",\"rgba(199,199,199,0.3)\",\"rgba(199,199,199,0.3)\",\"rgba(199,199,199,0.3)\",\"rgba(188,189,34,0.3)\",\"rgba(188,189,34,0.3)\",\"rgba(188,189,34,0.3)\",\"rgba(219,219,141,0.3)\",\"rgba(219,219,141,0.3)\",\"rgba(23,190,207,0.3)\",\"rgba(23,190,207,0.3)\",\"rgba(23,190,207,0.3)\",\"rgba(158,218,229,0.3)\",\"rgba(158,218,229,0.3)\",\"rgba(158,218,229,0.3)\",\"rgba(158,218,229,0.3)\",\"rgba(158,218,229,0.3)\"],\"label\":[\"processing-unit->utility-science-pack\",\"processing-unit->sattelite\",\"processing-unit->rocket-control-unit\",\"flying-robot-frame->utility-science-pack\",\"low-density-structure->utility-science-pack\",\"low-density-structure->space-science-pack\",\"low-density-structure->sattelite\",\"rail->production-science-pack\",\"electric-furnace->production-science-pack\",\"productivity-module->production-science-pack\",\"sulfur->chemical-science-pack\",\"sulfur->sulfuric-acid\",\"advanced-circuit->chemical-science-pack\",\"advanced-circuit->rocket-control-unit\",\"advanced-circuit->processing-unit\",\"advanced-circuit->electric-furnace\",\"advanced-circuit->productivity-module\",\"engine-unit->chemical-science-pack\",\"engine-unit->electric-engine-unit\",\"piercing-rounds-magazine->military-science-pack\",\"grenade->military-science-pack\",\"stone-brick->military-science-pack\",\"stone-brick->electric-furnace\",\"iron-plate->logistic-science-pack\",\"iron-plate->automation-science-pack\",\"iron-plate->sattelite\",\"iron-plate->grenade\",\"iron-plate->piercing-rounds-magazine\",\"iron-plate->rail\",\"iron-plate->engine-unit\",\"iron-plate->electronic-circuit\",\"iron-plate->battery\",\"iron-plate->sulfuric-acid\",\"electronic-circuit->logistic-science-pack\",\"electronic-circuit->sattelite\",\"electronic-circuit->rocket-control-unit\",\"electronic-circuit->processing-unit\",\"electronic-circuit->productivity-module\",\"electronic-circuit->flying-robot-frame\",\"electronic-circuit->advanced-circuit\",\"electronic-circuit->electric-engine-unit\",\"copper-plate->automation-science-pack\",\"copper-plate->sattelite\",\"copper-plate->low-density-structure\",\"copper-plate->piercing-rounds-magazine\",\"copper-plate->advanced-circuit\",\"copper-plate->electronic-circuit\",\"copper-plate->battery\",\"rocket-control-unit->space-science-pack\",\"rocket-fuel->space-science-pack\",\"rocket-fuel->sattelite\",\"sattelite->space-science-pack\",\"steel-plate->sattelite\",\"steel-plate->low-density-structure\",\"steel-plate->piercing-rounds-magazine\",\"steel-plate->rail\",\"steel-plate->electric-furnace\",\"steel-plate->flying-robot-frame\",\"steel-plate->engine-unit\",\"battery->sattelite\",\"battery->flying-robot-frame\",\"plastic-bar->low-density-structure\",\"plastic-bar->advanced-circuit\",\"sulfuric-acid->processing-unit\",\"sulfuric-acid->battery\",\"coal->grenade\",\"coal->plastic-bar\",\"water->sulfur\",\"water->sulfuric-acid\",\"water->oil-processing\",\"petroleum-gas->sulfur\",\"petroleum-gas->plastic-bar\",\"stone->rail\",\"stone->stone-brick\",\"electric-engine-unit->flying-robot-frame\",\"lubricant->electric-engine-unit\",\"copper-ore->copper-plate\",\"iron-ore->iron-plate\",\"iron-ore->steel-plate\",\"light-oil->rocket-fuel\",\"heavy-oil->lubricant\",\"oil-processing->heavy-oil\",\"oil-processing->light-oil\",\"oil-processing->petroleum-gas\",\"crude-oil->oil-processing\"],\"line\":{\"color\":\"black\",\"width\":0.2},\"source\":[1,1,1,2,3,3,3,5,6,7,9,9,10,10,10,10,10,11,11,13,14,15,15,17,17,17,17,17,17,17,17,17,17,18,18,18,18,18,18,18,18,20,20,20,20,20,20,20,22,23,23,24,25,25,25,25,25,25,25,26,26,27,27,28,28,29,29,30,30,30,31,31,32,32,33,34,35,36,36,37,38,39,39,39,40],\"target\":[0,24,22,0,0,21,24,4,4,4,8,28,8,22,1,6,7,8,33,12,12,12,6,16,19,24,14,13,5,11,18,26,28,16,24,22,1,7,2,10,33,19,24,3,13,10,18,26,21,21,24,21,24,3,13,5,6,2,11,24,2,3,10,1,26,14,27,9,28,39,9,27,5,15,2,33,20,17,25,23,34,38,37,31,39],\"value\":[0.11904999999999999,0.025,0.1275,0.11904999999999999,1.7857499999999997,1.7857499999999997,0.25,1.7857500000000002,0.11904999999999999,0.11904999999999999,0.17855000000000001,0.6465,0.13387500000000002,0.318875,0.194,0.14875,0.14875,0.35714999999999997,0.060750000000000005,0.044637500000000004,0.08925,0.89275,0.59525,0.6505,0.255,0.075,0.4465,0.35724999999999996,0.319,0.5117499999999999,5.90125,0.16157499999999997,0.064625,0.08928749999999999,0.190625,0.318875,1.939875,0.14875,0.063775,1.3491250000000001,0.030375000000000003,0.1785,0.125,5.4590000000000005,0.4465,1.9274999999999998,6.32275,0.16157499999999997,1.7857499999999997,1.7857499999999997,0.125,0.025,0.125,0.546,0.08925,0.89275,0.59525,0.04252499999999999,0.14925,0.0625,0.0425125,1.3647500000000001,2.6982500000000003,0.1552,0.517,1.7855,3.1254999999999997,0.16484000000000001,1.03416,5.545920000000001,0.16484000000000001,5.0008,1.7855,4.9605,0.08504999999999999,0.07288,24.368000000000002,14.569999999999999,16.944499999999998,1.8980799999999998,0.05608,0.0004,0.0004,0.0004,0.45831999999999995]},\"node\":{\"color\":[\"rgba(31,119,180,0.7)\",\"rgba(31,119,180,0.7)\",\"rgba(174,199,232,0.7)\",\"rgba(174,199,232,0.7)\",\"rgba(255,127,14,0.7)\",\"rgba(255,127,14,0.7)\",\"rgba(255,187,120,0.7)\",\"rgba(255,187,120,0.7)\",\"rgba(44,160,44,0.7)\",\"rgba(44,160,44,0.7)\",\"rgba(152,223,138,0.7)\",\"rgba(152,223,138,0.7)\",\"rgba(214,39,40,0.7)\",\"rgba(214,39,40,0.7)\",\"rgba(255,152,150,0.7)\",\"rgba(255,152,150,0.7)\",\"rgba(148,103,189,0.7)\",\"rgba(148,103,189,0.7)\",\"rgba(197,176,213,0.7)\",\"rgba(197,176,213,0.7)\",\"rgba(140,86,75,0.7)\",\"rgba(140,86,75,0.7)\",\"rgba(196,156,148,0.7)\",\"rgba(196,156,148,0.7)\",\"rgba(227,119,194,0.7)\",\"rgba(227,119,194,0.7)\",\"rgba(247,182,210,0.7)\",\"rgba(247,182,210,0.7)\",\"rgba(127,127,127,0.7)\",\"rgba(127,127,127,0.7)\",\"rgba(199,199,199,0.7)\",\"rgba(199,199,199,0.7)\",\"rgba(188,189,34,0.7)\",\"rgba(188,189,34,0.7)\",\"rgba(219,219,141,0.7)\",\"rgba(219,219,141,0.7)\",\"rgba(23,190,207,0.7)\",\"rgba(23,190,207,0.7)\",\"rgba(158,218,229,0.7)\",\"rgba(158,218,229,0.7)\",\"rgba(158,218,229,0.7)\"],\"label\":[\"utility-science-pack\",\"processing-unit\",\"flying-robot-frame\",\"low-density-structure\",\"production-science-pack\",\"rail\",\"electric-furnace\",\"productivity-module\",\"chemical-science-pack\",\"sulfur\",\"advanced-circuit\",\"engine-unit\",\"military-science-pack\",\"piercing-rounds-magazine\",\"grenade\",\"stone-brick\",\"logistic-science-pack\",\"iron-plate\",\"electronic-circuit\",\"automation-science-pack\",\"copper-plate\",\"space-science-pack\",\"rocket-control-unit\",\"rocket-fuel\",\"sattelite\",\"steel-plate\",\"battery\",\"plastic-bar\",\"sulfuric-acid\",\"coal\",\"water\",\"petroleum-gas\",\"stone\",\"electric-engine-unit\",\"lubricant\",\"copper-ore\",\"iron-ore\",\"light-oil\",\"heavy-oil\",\"oil-processing\",\"crude-oil\"],\"line\":{\"color\":\"black\",\"width\":0.5},\"pad\":30,\"thickness\":15},\"type\":\"sankey\",\"valueformat\":\".1f\",\"valuesuffix\":\" wagons/min\"}],                        {\"font\":{\"size\":12},\"height\":800,\"template\":{\"data\":{\"bar\":[{\"error_x\":{\"color\":\"#2a3f5f\"},\"error_y\":{\"color\":\"#2a3f5f\"},\"marker\":{\"line\":{\"color\":\"#E5ECF6\",\"width\":0.5},\"pattern\":{\"fillmode\":\"overlay\",\"size\":10,\"solidity\":0.2}},\"type\":\"bar\"}],\"barpolar\":[{\"marker\":{\"line\":{\"color\":\"#E5ECF6\",\"width\":0.5},\"pattern\":{\"fillmode\":\"overlay\",\"size\":10,\"solidity\":0.2}},\"type\":\"barpolar\"}],\"carpet\":[{\"aaxis\":{\"endlinecolor\":\"#2a3f5f\",\"gridcolor\":\"white\",\"linecolor\":\"white\",\"minorgridcolor\":\"white\",\"startlinecolor\":\"#2a3f5f\"},\"baxis\":{\"endlinecolor\":\"#2a3f5f\",\"gridcolor\":\"white\",\"linecolor\":\"white\",\"minorgridcolor\":\"white\",\"startlinecolor\":\"#2a3f5f\"},\"type\":\"carpet\"}],\"choropleth\":[{\"colorbar\":{\"outlinewidth\":0,\"ticks\":\"\"},\"type\":\"choropleth\"}],\"contour\":[{\"colorbar\":{\"outlinewidth\":0,\"ticks\":\"\"},\"colorscale\":[[0.0,\"#0d0887\"],[0.1111111111111111,\"#46039f\"],[0.2222222222222222,\"#7201a8\"],[0.3333333333333333,\"#9c179e\"],[0.4444444444444444,\"#bd3786\"],[0.5555555555555556,\"#d8576b\"],[0.6666666666666666,\"#ed7953\"],[0.7777777777777778,\"#fb9f3a\"],[0.8888888888888888,\"#fdca26\"],[1.0,\"#f0f921\"]],\"type\":\"contour\"}],\"contourcarpet\":[{\"colorbar\":{\"outlinewidth\":0,\"ticks\":\"\"},\"type\":\"contourcarpet\"}],\"heatmap\":[{\"colorbar\":{\"outlinewidth\":0,\"ticks\":\"\"},\"colorscale\":[[0.0,\"#0d0887\"],[0.1111111111111111,\"#46039f\"],[0.2222222222222222,\"#7201a8\"],[0.3333333333333333,\"#9c179e\"],[0.4444444444444444,\"#bd3786\"],[0.5555555555555556,\"#d8576b\"],[0.6666666666666666,\"#ed7953\"],[0.7777777777777778,\"#fb9f3a\"],[0.8888888888888888,\"#fdca26\"],[1.0,\"#f0f921\"]],\"type\":\"heatmap\"}],\"heatmapgl\":[{\"colorbar\":{\"outlinewidth\":0,\"ticks\":\"\"},\"colorscale\":[[0.0,\"#0d0887\"],[0.1111111111111111,\"#46039f\"],[0.2222222222222222,\"#7201a8\"],[0.3333333333333333,\"#9c179e\"],[0.4444444444444444,\"#bd3786\"],[0.5555555555555556,\"#d8576b\"],[0.6666666666666666,\"#ed7953\"],[0.7777777777777778,\"#fb9f3a\"],[0.8888888888888888,\"#fdca26\"],[1.0,\"#f0f921\"]],\"type\":\"heatmapgl\"}],\"histogram\":[{\"marker\":{\"pattern\":{\"fillmode\":\"overlay\",\"size\":10,\"solidity\":0.2}},\"type\":\"histogram\"}],\"histogram2d\":[{\"colorbar\":{\"outlinewidth\":0,\"ticks\":\"\"},\"colorscale\":[[0.0,\"#0d0887\"],[0.1111111111111111,\"#46039f\"],[0.2222222222222222,\"#7201a8\"],[0.3333333333333333,\"#9c179e\"],[0.4444444444444444,\"#bd3786\"],[0.5555555555555556,\"#d8576b\"],[0.6666666666666666,\"#ed7953\"],[0.7777777777777778,\"#fb9f3a\"],[0.8888888888888888,\"#fdca26\"],[1.0,\"#f0f921\"]],\"type\":\"histogram2d\"}],\"histogram2dcontour\":[{\"colorbar\":{\"outlinewidth\":0,\"ticks\":\"\"},\"colorscale\":[[0.0,\"#0d0887\"],[0.1111111111111111,\"#46039f\"],[0.2222222222222222,\"#7201a8\"],[0.3333333333333333,\"#9c179e\"],[0.4444444444444444,\"#bd3786\"],[0.5555555555555556,\"#d8576b\"],[0.6666666666666666,\"#ed7953\"],[0.7777777777777778,\"#fb9f3a\"],[0.8888888888888888,\"#fdca26\"],[1.0,\"#f0f921\"]],\"type\":\"histogram2dcontour\"}],\"mesh3d\":[{\"colorbar\":{\"outlinewidth\":0,\"ticks\":\"\"},\"type\":\"mesh3d\"}],\"parcoords\":[{\"line\":{\"colorbar\":{\"outlinewidth\":0,\"ticks\":\"\"}},\"type\":\"parcoords\"}],\"pie\":[{\"automargin\":true,\"type\":\"pie\"}],\"scatter\":[{\"marker\":{\"colorbar\":{\"outlinewidth\":0,\"ticks\":\"\"}},\"type\":\"scatter\"}],\"scatter3d\":[{\"line\":{\"colorbar\":{\"outlinewidth\":0,\"ticks\":\"\"}},\"marker\":{\"colorbar\":{\"outlinewidth\":0,\"ticks\":\"\"}},\"type\":\"scatter3d\"}],\"scattercarpet\":[{\"marker\":{\"colorbar\":{\"outlinewidth\":0,\"ticks\":\"\"}},\"type\":\"scattercarpet\"}],\"scattergeo\":[{\"marker\":{\"colorbar\":{\"outlinewidth\":0,\"ticks\":\"\"}},\"type\":\"scattergeo\"}],\"scattergl\":[{\"marker\":{\"colorbar\":{\"outlinewidth\":0,\"ticks\":\"\"}},\"type\":\"scattergl\"}],\"scattermapbox\":[{\"marker\":{\"colorbar\":{\"outlinewidth\":0,\"ticks\":\"\"}},\"type\":\"scattermapbox\"}],\"scatterpolar\":[{\"marker\":{\"colorbar\":{\"outlinewidth\":0,\"ticks\":\"\"}},\"type\":\"scatterpolar\"}],\"scatterpolargl\":[{\"marker\":{\"colorbar\":{\"outlinewidth\":0,\"ticks\":\"\"}},\"type\":\"scatterpolargl\"}],\"scatterternary\":[{\"marker\":{\"colorbar\":{\"outlinewidth\":0,\"ticks\":\"\"}},\"type\":\"scatterternary\"}],\"surface\":[{\"colorbar\":{\"outlinewidth\":0,\"ticks\":\"\"},\"colorscale\":[[0.0,\"#0d0887\"],[0.1111111111111111,\"#46039f\"],[0.2222222222222222,\"#7201a8\"],[0.3333333333333333,\"#9c179e\"],[0.4444444444444444,\"#bd3786\"],[0.5555555555555556,\"#d8576b\"],[0.6666666666666666,\"#ed7953\"],[0.7777777777777778,\"#fb9f3a\"],[0.8888888888888888,\"#fdca26\"],[1.0,\"#f0f921\"]],\"type\":\"surface\"}],\"table\":[{\"cells\":{\"fill\":{\"color\":\"#EBF0F8\"},\"line\":{\"color\":\"white\"}},\"header\":{\"fill\":{\"color\":\"#C8D4E3\"},\"line\":{\"color\":\"white\"}},\"type\":\"table\"}]},\"layout\":{\"annotationdefaults\":{\"arrowcolor\":\"#2a3f5f\",\"arrowhead\":0,\"arrowwidth\":1},\"autotypenumbers\":\"strict\",\"coloraxis\":{\"colorbar\":{\"outlinewidth\":0,\"ticks\":\"\"}},\"colorscale\":{\"diverging\":[[0,\"#8e0152\"],[0.1,\"#c51b7d\"],[0.2,\"#de77ae\"],[0.3,\"#f1b6da\"],[0.4,\"#fde0ef\"],[0.5,\"#f7f7f7\"],[0.6,\"#e6f5d0\"],[0.7,\"#b8e186\"],[0.8,\"#7fbc41\"],[0.9,\"#4d9221\"],[1,\"#276419\"]],\"sequential\":[[0.0,\"#0d0887\"],[0.1111111111111111,\"#46039f\"],[0.2222222222222222,\"#7201a8\"],[0.3333333333333333,\"#9c179e\"],[0.4444444444444444,\"#bd3786\"],[0.5555555555555556,\"#d8576b\"],[0.6666666666666666,\"#ed7953\"],[0.7777777777777778,\"#fb9f3a\"],[0.8888888888888888,\"#fdca26\"],[1.0,\"#f0f921\"]],\"sequentialminus\":[[0.0,\"#0d0887\"],[0.1111111111111111,\"#46039f\"],[0.2222222222222222,\"#7201a8\"],[0.3333333333333333,\"#9c179e\"],[0.4444444444444444,\"#bd3786\"],[0.5555555555555556,\"#d8576b\"],[0.6666666666666666,\"#ed7953\"],[0.7777777777777778,\"#fb9f3a\"],[0.8888888888888888,\"#fdca26\"],[1.0,\"#f0f921\"]]},\"colorway\":[\"#636efa\",\"#EF553B\",\"#00cc96\",\"#ab63fa\",\"#FFA15A\",\"#19d3f3\",\"#FF6692\",\"#B6E880\",\"#FF97FF\",\"#FECB52\"],\"font\":{\"color\":\"#2a3f5f\"},\"geo\":{\"bgcolor\":\"white\",\"lakecolor\":\"white\",\"landcolor\":\"#E5ECF6\",\"showlakes\":true,\"showland\":true,\"subunitcolor\":\"white\"},\"hoverlabel\":{\"align\":\"left\"},\"hovermode\":\"closest\",\"mapbox\":{\"style\":\"light\"},\"paper_bgcolor\":\"white\",\"plot_bgcolor\":\"#E5ECF6\",\"polar\":{\"angularaxis\":{\"gridcolor\":\"white\",\"linecolor\":\"white\",\"ticks\":\"\"},\"bgcolor\":\"#E5ECF6\",\"radialaxis\":{\"gridcolor\":\"white\",\"linecolor\":\"white\",\"ticks\":\"\"}},\"scene\":{\"xaxis\":{\"backgroundcolor\":\"#E5ECF6\",\"gridcolor\":\"white\",\"gridwidth\":2,\"linecolor\":\"white\",\"showbackground\":true,\"ticks\":\"\",\"zerolinecolor\":\"white\"},\"yaxis\":{\"backgroundcolor\":\"#E5ECF6\",\"gridcolor\":\"white\",\"gridwidth\":2,\"linecolor\":\"white\",\"showbackground\":true,\"ticks\":\"\",\"zerolinecolor\":\"white\"},\"zaxis\":{\"backgroundcolor\":\"#E5ECF6\",\"gridcolor\":\"white\",\"gridwidth\":2,\"linecolor\":\"white\",\"showbackground\":true,\"ticks\":\"\",\"zerolinecolor\":\"white\"}},\"shapedefaults\":{\"line\":{\"color\":\"#2a3f5f\"}},\"ternary\":{\"aaxis\":{\"gridcolor\":\"white\",\"linecolor\":\"white\",\"ticks\":\"\"},\"baxis\":{\"gridcolor\":\"white\",\"linecolor\":\"white\",\"ticks\":\"\"},\"bgcolor\":\"#E5ECF6\",\"caxis\":{\"gridcolor\":\"white\",\"linecolor\":\"white\",\"ticks\":\"\"}},\"title\":{\"x\":0.05},\"xaxis\":{\"automargin\":true,\"gridcolor\":\"white\",\"linecolor\":\"white\",\"ticks\":\"\",\"title\":{\"standoff\":15},\"zerolinecolor\":\"white\",\"zerolinewidth\":2},\"yaxis\":{\"automargin\":true,\"gridcolor\":\"white\",\"linecolor\":\"white\",\"ticks\":\"\",\"title\":{\"standoff\":15},\"zerolinecolor\":\"white\",\"zerolinewidth\":2}}},\"title\":{\"text\":\"Megabase production wagons / min\"}},                        {\"responsive\": true}                    ).then(function(){\n",
       "                            \n",
       "var gd = document.getElementById('23ec4792-52b8-4139-89a4-b0a7ed7ce18e');\n",
       "var x = new MutationObserver(function (mutations, observer) {{\n",
       "        var display = window.getComputedStyle(gd).display;\n",
       "        if (!display || display === 'none') {{\n",
       "            console.log([gd, 'removed!']);\n",
       "            Plotly.purge(gd);\n",
       "            observer.disconnect();\n",
       "        }}\n",
       "}});\n",
       "\n",
       "// Listen for the removal of the full notebook cells\n",
       "var notebookContainer = gd.closest('#notebook-container');\n",
       "if (notebookContainer) {{\n",
       "    x.observe(notebookContainer, {childList: true});\n",
       "}}\n",
       "\n",
       "// Listen for the clearing of the current output cell\n",
       "var outputEl = gd.closest('.output');\n",
       "if (outputEl) {{\n",
       "    x.observe(outputEl, {childList: true});\n",
       "}}\n",
       "\n",
       "                        })                };                });            </script>        </div>"
      ]
     },
     "metadata": {},
     "output_type": "display_data"
    }
   ],
   "source": [
    "import plotly.graph_objects as go\n",
    "import urllib, json\n",
    "\n",
    "\n",
    "url = 'https://gist.githubusercontent.com/lilred/503c8c261715968090a11acaf7c02507/raw/3ffe06720d0ed5b0008dde694b2b9028cf5349fa/factorio-0.17-item-stack-sizes.json'\n",
    "response = urllib.request.urlopen(url)\n",
    "stack_sizes = json.loads(response.read())\n",
    "stack_sizes['sattelite'] = { 'stack_size': 1, 'name': 'sattelite' }\n",
    "\n",
    "def items_to_trains(material, item_count):\n",
    "    stack_size = stack_sizes.get(material, { 'stack_size': 625 })['stack_size']\n",
    "    trains = item_count / stack_size / 40\n",
    "    return trains\n",
    "\n",
    "def edge_values_as_trains(node_labels, source, values):\n",
    "    return [items_to_trains(node_labels[source[i]], v) for i, v in enumerate(values)]\n",
    "\n",
    "def mpc_to_rgba(value, alpha=1):\n",
    "    return 'rgba({},{},{},{})'.format(*[int(f * 255) for f in matplotlib.colors.to_rgb(value)], alpha)\n",
    "\n",
    "c = iter(cm.tab20(np.linspace(0, 1, G.order())))\n",
    "science_linspace = np.linspace(0, 1, 7)\n",
    "\n",
    "node_label = [str(n) for n in G]\n",
    "node_color = [next(c) for n in G]\n",
    "\n",
    "(source, target, value, edge_color, edge_label) = zip(*[\n",
    "        [*[node_label.index(n) for n in edge],\n",
    "         w,\n",
    "         node_color[node_label.index(edge[0])],\n",
    "         '{}->{}'.format(*edge)\n",
    "        ] for (*edge, w) in G.edges.data('width')\n",
    "    ])\n",
    "\n",
    "fig = go.Figure(data=[go.Sankey(\n",
    "    valueformat = \".1f\",\n",
    "    valuesuffix = \" wagons/min\",\n",
    "    # Define nodes\n",
    "    node = dict(\n",
    "      pad = 30,\n",
    "      thickness = 15,\n",
    "      line = dict(color = \"black\", width = 0.5),\n",
    "      label =  node_label,\n",
    "      color =  [mpc_to_rgba(color, 0.7) for color in node_color]\n",
    "    ),\n",
    "    # Add links\n",
    "    link = dict(\n",
    "      source =  source,\n",
    "      target =  target,\n",
    "      value =  edge_values_as_trains(node_label, source, value),\n",
    "      label =  edge_label,\n",
    "      line = dict(color = \"black\", width = 0.2),\n",
    "      color =  [mpc_to_rgba(color, 0.3) for color in edge_color]\n",
    "))])\n",
    "\n",
    "fig.update_layout(title_text=\"Megabase production wagons / min\", font_size=12, height=800)\n",
    "fig.show()"
   ]
  },
  {
   "cell_type": "code",
   "execution_count": null,
   "id": "89adf2a2",
   "metadata": {},
   "outputs": [],
   "source": []
  }
 ],
 "metadata": {
  "kernelspec": {
   "display_name": "Python 3 (ipykernel)",
   "language": "python",
   "name": "python3"
  },
  "language_info": {
   "codemirror_mode": {
    "name": "ipython",
    "version": 3
   },
   "file_extension": ".py",
   "mimetype": "text/x-python",
   "name": "python",
   "nbconvert_exporter": "python",
   "pygments_lexer": "ipython3",
   "version": "3.9.2"
  }
 },
 "nbformat": 4,
 "nbformat_minor": 5
}
